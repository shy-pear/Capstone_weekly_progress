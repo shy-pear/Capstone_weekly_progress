{
 "cells": [
  {
   "cell_type": "code",
   "execution_count": 1,
   "id": "a65345cb-a26f-4fa3-9b70-a070b2aa3eab",
   "metadata": {},
   "outputs": [],
   "source": [
    "import pandas as pd"
   ]
  },
  {
   "cell_type": "code",
   "execution_count": 2,
   "id": "0fdb8b2e-7df3-42fa-b03b-bd0f1d066625",
   "metadata": {},
   "outputs": [],
   "source": [
    "import torch\n",
    "from transformers import BertTokenizerFast, BertForSequenceClassification\n",
    "from datasets import load_dataset\n",
    "from sklearn.model_selection import train_test_split"
   ]
  },
  {
   "cell_type": "code",
   "execution_count": 3,
   "id": "e98d8762-d5b9-4162-abd0-81647c3a0cd6",
   "metadata": {},
   "outputs": [],
   "source": [
    "from torch.utils.data import DataLoader"
   ]
  },
  {
   "cell_type": "code",
   "execution_count": 4,
   "id": "7f67b40b-a558-47bf-8ebb-666e3b45dbf1",
   "metadata": {},
   "outputs": [],
   "source": [
    "import torch.nn as nn\n",
    "import torch.optim as optim\n",
    "from torch.utils.data import Dataset"
   ]
  },
  {
   "cell_type": "code",
   "execution_count": 5,
   "id": "3b3d058e-58a6-4dfe-bda0-32618202179c",
   "metadata": {},
   "outputs": [],
   "source": [
    "import os"
   ]
  },
  {
   "cell_type": "code",
   "execution_count": 48,
   "id": "fcac9ca4-82d2-4f84-9ac8-cfe11755297d",
   "metadata": {},
   "outputs": [],
   "source": [
    "from sklearn.metrics import accuracy_score, classification_report, confusion_matrix"
   ]
  },
  {
   "cell_type": "code",
   "execution_count": 49,
   "id": "05294d02-ef7c-4246-8dab-27c6eb72c28a",
   "metadata": {},
   "outputs": [],
   "source": [
    "from datasets import Dataset"
   ]
  },
  {
   "cell_type": "code",
   "execution_count": 6,
   "id": "6cd6d68b-e393-4196-b449-a9e7e684f55e",
   "metadata": {},
   "outputs": [
    {
     "name": "stderr",
     "output_type": "stream",
     "text": [
      "Some weights of BertForSequenceClassification were not initialized from the model checkpoint at prajjwal1/bert-mini and are newly initialized: ['classifier.bias', 'classifier.weight']\n",
      "You should probably TRAIN this model on a down-stream task to be able to use it for predictions and inference.\n"
     ]
    }
   ],
   "source": [
    "MODEL = \"prajjwal1/bert-mini\"  # Optimized small model\n",
    "tokenizer = BertTokenizerFast.from_pretrained(MODEL)\n",
    "\n",
    "# Load Model\n",
    "model = BertForSequenceClassification.from_pretrained(MODEL, num_labels=2)  # Binary Classification"
   ]
  },
  {
   "cell_type": "code",
   "execution_count": 8,
   "id": "aca95df2-f174-4616-8905-b31ad3adeb02",
   "metadata": {},
   "outputs": [],
   "source": [
    "sentiment_dataset = load_dataset(\"imdb\")  # Sentiment analysis dataset\n",
    "suicide_dataset = load_dataset(\"vibhorag101/suicide_prediction_dataset_phr\")  # Suicide detection dataset"
   ]
  },
  {
   "cell_type": "code",
   "execution_count": 9,
   "id": "18312593-e511-443c-8e5a-710cda9c8e6d",
   "metadata": {},
   "outputs": [
    {
     "name": "stdout",
     "output_type": "stream",
     "text": [
      "DatasetDict({\n",
      "    train: Dataset({\n",
      "        features: ['text', 'label'],\n",
      "        num_rows: 185574\n",
      "    })\n",
      "    test: Dataset({\n",
      "        features: ['text', 'label'],\n",
      "        num_rows: 46394\n",
      "    })\n",
      "})\n"
     ]
    }
   ],
   "source": [
    "print(suicide_dataset)"
   ]
  },
  {
   "cell_type": "code",
   "execution_count": 10,
   "id": "aca63a02-6d52-4ce7-be3a-71a2ff2e3f45",
   "metadata": {},
   "outputs": [
    {
     "name": "stdout",
     "output_type": "stream",
     "text": [
      "DatasetDict({\n",
      "    train: Dataset({\n",
      "        features: ['text', 'label'],\n",
      "        num_rows: 25000\n",
      "    })\n",
      "    test: Dataset({\n",
      "        features: ['text', 'label'],\n",
      "        num_rows: 25000\n",
      "    })\n",
      "    unsupervised: Dataset({\n",
      "        features: ['text', 'label'],\n",
      "        num_rows: 50000\n",
      "    })\n",
      "})\n"
     ]
    }
   ],
   "source": [
    "print(sentiment_dataset)"
   ]
  },
  {
   "cell_type": "code",
   "execution_count": 11,
   "id": "535f7786-b36b-4508-9454-33c43b7f9ea4",
   "metadata": {},
   "outputs": [],
   "source": [
    "# Function to convert string labels to numeric values\n",
    "def map_labels(example):\n",
    "    # SuicideWatch dataset: Convert \"suicide\" → 1, \"non-suicide\" → 0\n",
    "    if example[\"label\"] == \"suicide\":\n",
    "        example[\"label\"] = 1\n",
    "    elif example[\"label\"] == \"non-suicide\":\n",
    "        example[\"label\"] = 0\n",
    "\n",
    "    return example"
   ]
  },
  {
   "cell_type": "code",
   "execution_count": 12,
   "id": "798dcbce-af47-41b2-bdb2-a7f4ecf88506",
   "metadata": {},
   "outputs": [],
   "source": [
    "suicide_dataset = suicide_dataset.map(map_labels)"
   ]
  },
  {
   "cell_type": "code",
   "execution_count": 13,
   "id": "ddd4c96c-5e93-402b-b7cd-c7fee92d8c87",
   "metadata": {},
   "outputs": [],
   "source": [
    "# Tokenize and Rename Labels Efficiently\n",
    "def preprocess_function(batch):\n",
    "    tokenized = tokenizer(batch[\"text\"], truncation=True, padding=\"max_length\", max_length=512)\n",
    "    tokenized[\"labels\"] = [int(label) for label in batch[\"label\"]]\n",
    "    return tokenized\n",
    "\n",
    "# Apply tokenization to both datasets\n",
    "suicide_dataset = suicide_dataset.map(preprocess_function, batched=True)"
   ]
  },
  {
   "cell_type": "code",
   "execution_count": 14,
   "id": "fc2e6965-1a45-4567-9f16-0640c800d904",
   "metadata": {},
   "outputs": [],
   "source": [
    "sentiment_dataset = sentiment_dataset.map(preprocess_function, batched=True)"
   ]
  },
  {
   "cell_type": "code",
   "execution_count": 15,
   "id": "1f6e3c56-1439-4791-b958-68103c6fdc4a",
   "metadata": {},
   "outputs": [],
   "source": [
    "# Remove text column (no longer needed)\n",
    "suicide_dataset = suicide_dataset.remove_columns([\"text\"])\n",
    "sentiment_dataset = sentiment_dataset.remove_columns([\"text\"])"
   ]
  },
  {
   "cell_type": "code",
   "execution_count": 16,
   "id": "cacd9e0c-1a6e-4104-9ca0-309853a4d729",
   "metadata": {},
   "outputs": [],
   "source": [
    "# Pytorch Dataset Wrapper\n",
    "class MultiTaskDataset(Dataset):\n",
    "    def __init__(self, hf_dataset):\n",
    "        self.dataset = hf_dataset\n",
    "\n",
    "    def __len__(self):\n",
    "        return len(self.dataset)\n",
    "\n",
    "    def __getitem__(self, idx):\n",
    "        item = self.dataset[idx]\n",
    "        return {\n",
    "            \"input_ids\": torch.tensor(item[\"input_ids\"], dtype=torch.long),\n",
    "            \"attention_mask\": torch.tensor(item[\"attention_mask\"], dtype=torch.long),\n",
    "            \"labels\": torch.tensor(item[\"labels\"], dtype=torch.long),\n",
    "        }\n",
    "\n",
    "# Wrap datasets\n",
    "train_suicide_dataset = MultiTaskDataset(suicide_dataset[\"train\"])\n",
    "test_suicide_dataset = MultiTaskDataset(suicide_dataset[\"test\"])\n",
    "\n",
    "train_sentiment_dataset = MultiTaskDataset(sentiment_dataset[\"train\"])\n",
    "test_sentiment_dataset = MultiTaskDataset(sentiment_dataset[\"test\"])"
   ]
  },
  {
   "cell_type": "code",
   "execution_count": 17,
   "id": "63b166f1-1644-43f5-bad6-5852eac7df80",
   "metadata": {},
   "outputs": [
    {
     "name": "stdout",
     "output_type": "stream",
     "text": [
      "<__main__.MultiTaskDataset object at 0x11c5caff0>\n"
     ]
    }
   ],
   "source": [
    "print(train_suicide_dataset)"
   ]
  },
  {
   "cell_type": "code",
   "execution_count": 18,
   "id": "529af052-cd24-48c9-9c98-8466b1aa22e9",
   "metadata": {},
   "outputs": [],
   "source": [
    "# Create efficient dataloaders\n",
    "BATCH_SIZE = 8  # Increase batch size for efficiency\n",
    "\n",
    "train_suicide_loader = DataLoader(train_suicide_dataset, batch_size=BATCH_SIZE, shuffle=True)\n",
    "test_suicide_loader = DataLoader(test_suicide_dataset, batch_size=BATCH_SIZE, shuffle=False)\n",
    "\n",
    "train_sentiment_loader = DataLoader(train_sentiment_dataset, batch_size=BATCH_SIZE, shuffle=True)\n",
    "test_sentiment_loader = DataLoader(test_sentiment_dataset, batch_size=BATCH_SIZE, shuffle=False)"
   ]
  },
  {
   "cell_type": "code",
   "execution_count": 19,
   "id": "9fa1aa80-1a14-4c35-aa52-44e838def289",
   "metadata": {},
   "outputs": [],
   "source": [
    "# Set Device (Supports Mac MPS and CUDA)\n",
    "device = torch.device(\"mps\" if torch.backends.mps.is_available() else \"cuda\" if torch.cuda.is_available() else \"cpu\")"
   ]
  },
  {
   "cell_type": "code",
   "execution_count": 20,
   "id": "5abe4e2c-23bb-4d25-b75b-2ec07ebd961a",
   "metadata": {},
   "outputs": [
    {
     "name": "stdout",
     "output_type": "stream",
     "text": [
      "Using device: mps\n"
     ]
    }
   ],
   "source": [
    "print(f\"Using device: {device}\")"
   ]
  },
  {
   "cell_type": "code",
   "execution_count": 21,
   "id": "0df9eb3f-8690-4934-86b2-2949cc7432f3",
   "metadata": {},
   "outputs": [],
   "source": [
    "# Define Optimizer & Loss Function\n",
    "optimizer = optim.AdamW(model.parameters(), lr=5e-5)  # Higher learning rate for BERT-Mini\n",
    "loss_fn = nn.CrossEntropyLoss()  # Binary classification loss"
   ]
  },
  {
   "cell_type": "code",
   "execution_count": 22,
   "id": "97571050-6348-41be-ac71-04accf9a2119",
   "metadata": {},
   "outputs": [],
   "source": [
    "# Model optimizations for less memory usage and better training\n",
    "\n",
    "# Less dropout layers\n",
    "for module in model.modules():\n",
    "    if isinstance(module, torch.nn.Dropout):\n",
    "        module.p = 0.05  # Reduce dropout"
   ]
  },
  {
   "cell_type": "code",
   "execution_count": 23,
   "id": "f99731ca-76f9-4885-8130-0cf326716311",
   "metadata": {},
   "outputs": [],
   "source": [
    "model.classifier = nn.Sequential(\n",
    "    nn.LayerNorm(256),  # Normalize before classification\n",
    "    nn.Linear(256, 2)   # Keep original classifier\n",
    ")"
   ]
  },
  {
   "cell_type": "code",
   "execution_count": 30,
   "id": "503bf1e7-0f4d-4c30-83c9-6a08b45c25d9",
   "metadata": {},
   "outputs": [
    {
     "data": {
      "text/plain": [
       "BertForSequenceClassification(\n",
       "  (bert): BertModel(\n",
       "    (embeddings): BertEmbeddings(\n",
       "      (word_embeddings): Embedding(30522, 256, padding_idx=0)\n",
       "      (position_embeddings): Embedding(512, 256)\n",
       "      (token_type_embeddings): Embedding(2, 256)\n",
       "      (LayerNorm): LayerNorm((256,), eps=1e-12, elementwise_affine=True)\n",
       "      (dropout): Dropout(p=0.05, inplace=False)\n",
       "    )\n",
       "    (encoder): BertEncoder(\n",
       "      (layer): ModuleList(\n",
       "        (0-3): 4 x BertLayer(\n",
       "          (attention): BertAttention(\n",
       "            (self): BertSdpaSelfAttention(\n",
       "              (query): Linear(in_features=256, out_features=256, bias=True)\n",
       "              (key): Linear(in_features=256, out_features=256, bias=True)\n",
       "              (value): Linear(in_features=256, out_features=256, bias=True)\n",
       "              (dropout): Dropout(p=0.05, inplace=False)\n",
       "            )\n",
       "            (output): BertSelfOutput(\n",
       "              (dense): Linear(in_features=256, out_features=256, bias=True)\n",
       "              (LayerNorm): LayerNorm((256,), eps=1e-12, elementwise_affine=True)\n",
       "              (dropout): Dropout(p=0.05, inplace=False)\n",
       "            )\n",
       "          )\n",
       "          (intermediate): BertIntermediate(\n",
       "            (dense): Linear(in_features=256, out_features=1024, bias=True)\n",
       "            (intermediate_act_fn): GELUActivation()\n",
       "          )\n",
       "          (output): BertOutput(\n",
       "            (dense): Linear(in_features=1024, out_features=256, bias=True)\n",
       "            (LayerNorm): LayerNorm((256,), eps=1e-12, elementwise_affine=True)\n",
       "            (dropout): Dropout(p=0.05, inplace=False)\n",
       "          )\n",
       "        )\n",
       "      )\n",
       "    )\n",
       "    (pooler): BertPooler(\n",
       "      (dense): Linear(in_features=256, out_features=256, bias=True)\n",
       "      (activation): Tanh()\n",
       "    )\n",
       "  )\n",
       "  (dropout): Dropout(p=0.05, inplace=False)\n",
       "  (classifier): Sequential(\n",
       "    (0): LayerNorm((256,), eps=1e-05, elementwise_affine=True)\n",
       "    (1): Linear(in_features=256, out_features=2, bias=True)\n",
       "  )\n",
       ")"
      ]
     },
     "execution_count": 30,
     "metadata": {},
     "output_type": "execute_result"
    }
   ],
   "source": [
    "model.half()  # Convert model weights to float16"
   ]
  },
  {
   "cell_type": "code",
   "execution_count": 24,
   "id": "56843c11-c28a-4ee6-8250-8fe93a958d93",
   "metadata": {},
   "outputs": [],
   "source": [
    "# Training Configurations\n",
    "EPOCHS = 3 # More epochs compensate for smaller model"
   ]
  },
  {
   "cell_type": "code",
   "execution_count": 25,
   "id": "98210850-ed9b-40fc-a9a5-564d8897d36d",
   "metadata": {},
   "outputs": [
    {
     "name": "stdout",
     "output_type": "stream",
     "text": [
      "{'input_ids': tensor([[  101,  2028,  2154,  ...,     0,     0,     0],\n",
      "        [  101,  2746,  4931,  ...,     0,     0,     0],\n",
      "        [  101,  4931,  3424,  ...,     0,     0,     0],\n",
      "        ...,\n",
      "        [  101,  2562,  2893,  ...,     0,     0,     0],\n",
      "        [  101,  3225,  2228,  ...,     0,     0,     0],\n",
      "        [  101,  3100, 15958,  ...,     0,     0,     0]]), 'attention_mask': tensor([[1, 1, 1,  ..., 0, 0, 0],\n",
      "        [1, 1, 1,  ..., 0, 0, 0],\n",
      "        [1, 1, 1,  ..., 0, 0, 0],\n",
      "        ...,\n",
      "        [1, 1, 1,  ..., 0, 0, 0],\n",
      "        [1, 1, 1,  ..., 0, 0, 0],\n",
      "        [1, 1, 1,  ..., 0, 0, 0]]), 'labels': tensor([1, 0, 1, 0, 0, 1, 1, 0])}\n"
     ]
    }
   ],
   "source": [
    "batch = next(iter(train_suicide_loader))\n",
    "print(batch)"
   ]
  },
  {
   "cell_type": "code",
   "execution_count": 26,
   "id": "debcf7a5-ed14-4135-af70-59945bf068c8",
   "metadata": {},
   "outputs": [
    {
     "name": "stdout",
     "output_type": "stream",
     "text": [
      "<class 'transformers.models.bert.modeling_bert.BertForSequenceClassification'>\n"
     ]
    }
   ],
   "source": [
    "print(type(model))"
   ]
  },
  {
   "cell_type": "code",
   "execution_count": 27,
   "id": "8c0006d0-f828-4300-8f7e-bf7120ff2f2a",
   "metadata": {},
   "outputs": [],
   "source": [
    "# Ensure model is fully on the correct device\n",
    "model.to(device)\n",
    "for param in model.parameters():\n",
    "    param.data = param.data.to(device)\n",
    "    if param.grad is not None:\n",
    "        param.grad.data = param.grad.data.to(device)"
   ]
  },
  {
   "cell_type": "code",
   "execution_count": 28,
   "id": "7fc215db-7f0d-4eef-a2a3-9420b8921cec",
   "metadata": {},
   "outputs": [
    {
     "name": "stdout",
     "output_type": "stream",
     "text": [
      "Epoch 1/3 - Training...\n",
      "Batch 0/3125 - Loss: 1.0443\n",
      "Batch 100/3125 - Loss: 0.4149\n",
      "Batch 200/3125 - Loss: 0.2971\n",
      "Batch 300/3125 - Loss: 0.3176\n",
      "Batch 400/3125 - Loss: 0.2951\n",
      "Batch 500/3125 - Loss: 0.1748\n",
      "Batch 600/3125 - Loss: 0.3313\n",
      "Batch 700/3125 - Loss: 0.3110\n",
      "Batch 800/3125 - Loss: 0.4572\n",
      "Batch 900/3125 - Loss: 0.3571\n",
      "Batch 1000/3125 - Loss: 0.0798\n",
      "Batch 1100/3125 - Loss: 0.2436\n",
      "Batch 1200/3125 - Loss: 0.2445\n",
      "Batch 1300/3125 - Loss: 0.1785\n",
      "Batch 1400/3125 - Loss: 0.1334\n",
      "Batch 1500/3125 - Loss: 0.3447\n",
      "Batch 1600/3125 - Loss: 0.5881\n",
      "Batch 1700/3125 - Loss: 0.2813\n",
      "Batch 1800/3125 - Loss: 0.2918\n",
      "Batch 1900/3125 - Loss: 0.3522\n",
      "Batch 2000/3125 - Loss: 0.1048\n",
      "Batch 2100/3125 - Loss: 0.0339\n",
      "Batch 2200/3125 - Loss: 0.1975\n",
      "Batch 2300/3125 - Loss: 0.3669\n",
      "Batch 2400/3125 - Loss: 0.2788\n",
      "Batch 2500/3125 - Loss: 0.0912\n",
      "Batch 2600/3125 - Loss: 0.0892\n",
      "Batch 2700/3125 - Loss: 0.0782\n",
      "Batch 2800/3125 - Loss: 0.5040\n",
      "Batch 2900/3125 - Loss: 0.0620\n",
      "Batch 3000/3125 - Loss: 0.0405\n",
      "Batch 3100/3125 - Loss: 0.2356\n",
      "Epoch 1 completed. Avg Loss: 0.1156\n",
      "Epoch 2/3 - Training...\n",
      "Batch 0/3125 - Loss: 0.0405\n",
      "Batch 100/3125 - Loss: 0.1279\n",
      "Batch 200/3125 - Loss: 0.0933\n",
      "Batch 300/3125 - Loss: 0.0407\n",
      "Batch 400/3125 - Loss: 0.3621\n",
      "Batch 500/3125 - Loss: 0.0309\n",
      "Batch 600/3125 - Loss: 0.1004\n",
      "Batch 700/3125 - Loss: 0.0583\n",
      "Batch 800/3125 - Loss: 0.1162\n",
      "Batch 900/3125 - Loss: 0.0339\n",
      "Batch 1000/3125 - Loss: 0.0801\n",
      "Batch 1100/3125 - Loss: 0.1184\n",
      "Batch 1200/3125 - Loss: 0.0599\n",
      "Batch 1300/3125 - Loss: 0.1118\n",
      "Batch 1400/3125 - Loss: 0.2872\n",
      "Batch 1500/3125 - Loss: 0.1880\n",
      "Batch 1600/3125 - Loss: 0.4066\n",
      "Batch 1700/3125 - Loss: 0.0313\n",
      "Batch 1800/3125 - Loss: 0.0307\n",
      "Batch 1900/3125 - Loss: 0.1519\n",
      "Batch 2000/3125 - Loss: 0.0623\n",
      "Batch 2100/3125 - Loss: 0.0183\n",
      "Batch 2200/3125 - Loss: 0.0406\n",
      "Batch 2300/3125 - Loss: 0.1353\n",
      "Batch 2400/3125 - Loss: 0.0567\n",
      "Batch 2500/3125 - Loss: 0.2798\n",
      "Batch 2600/3125 - Loss: 0.0561\n",
      "Batch 2700/3125 - Loss: 0.1302\n",
      "Batch 2800/3125 - Loss: 0.1621\n",
      "Batch 2900/3125 - Loss: 0.0356\n",
      "Batch 3000/3125 - Loss: 0.0583\n",
      "Batch 3100/3125 - Loss: 0.1308\n",
      "Epoch 2 completed. Avg Loss: 0.1666\n",
      "Epoch 3/3 - Training...\n",
      "Batch 0/3125 - Loss: 0.0435\n",
      "Batch 100/3125 - Loss: 0.0847\n",
      "Batch 200/3125 - Loss: 0.1333\n",
      "Batch 300/3125 - Loss: 0.0169\n",
      "Batch 400/3125 - Loss: 0.1568\n",
      "Batch 500/3125 - Loss: 0.1687\n",
      "Batch 600/3125 - Loss: 0.0883\n",
      "Batch 700/3125 - Loss: 0.2227\n",
      "Batch 800/3125 - Loss: 0.1024\n",
      "Batch 900/3125 - Loss: 0.0158\n",
      "Batch 1000/3125 - Loss: 0.1232\n",
      "Batch 1100/3125 - Loss: 0.0852\n",
      "Batch 1200/3125 - Loss: 0.1264\n",
      "Batch 1300/3125 - Loss: 0.0351\n",
      "Batch 1400/3125 - Loss: 0.0392\n",
      "Batch 1500/3125 - Loss: 0.0634\n",
      "Batch 1600/3125 - Loss: 0.0477\n",
      "Batch 1700/3125 - Loss: 0.2660\n",
      "Batch 1800/3125 - Loss: 0.2117\n",
      "Batch 1900/3125 - Loss: 0.1465\n",
      "Batch 2000/3125 - Loss: 0.2094\n",
      "Batch 2100/3125 - Loss: 0.1026\n",
      "Batch 2200/3125 - Loss: 0.3603\n",
      "Batch 2300/3125 - Loss: 0.0521\n",
      "Batch 2400/3125 - Loss: 0.1767\n",
      "Batch 2500/3125 - Loss: 0.0418\n",
      "Batch 2600/3125 - Loss: 0.0252\n",
      "Batch 2700/3125 - Loss: 0.1283\n",
      "Batch 2800/3125 - Loss: 0.0069\n",
      "Batch 2900/3125 - Loss: 0.0580\n",
      "Batch 3000/3125 - Loss: 0.2869\n",
      "Batch 3100/3125 - Loss: 0.1822\n",
      "Epoch 3 completed. Avg Loss: 0.0185\n",
      "Training complete!\n"
     ]
    }
   ],
   "source": [
    "# Train model\n",
    "for epoch in range(EPOCHS):\n",
    "    model.train()  # Set model to training mode\n",
    "    total_loss = 0\n",
    "    num_batches = min(len(train_suicide_loader), len(train_sentiment_loader))  # Ensure equal batches\n",
    "\n",
    "    print(f\"Epoch {epoch + 1}/{EPOCHS} - Training...\")\n",
    "\n",
    "    for batch_idx, (batch_suicide, batch_sentiment) in enumerate(zip(train_suicide_loader, train_sentiment_loader)):\n",
    "        optimizer.zero_grad()\n",
    "\n",
    "        # Suicide Task\n",
    "        inputs = {key: val.to(device) for key, val in batch_suicide.items() if key in [\"input_ids\", \"attention_mask\"]}\n",
    "        labels = batch_suicide[\"labels\"].to(device)\n",
    "        outputs = model(**inputs)\n",
    "        loss_suicide = loss_fn(outputs.logits, labels)\n",
    "\n",
    "        # Sentiment Task\n",
    "        inputs = {key: val.to(device) for key, val in batch_sentiment.items() if key in [\"input_ids\", \"attention_mask\"]}\n",
    "        labels = batch_sentiment[\"labels\"].to(device)\n",
    "        outputs = model(**inputs)\n",
    "        loss_sentiment = loss_fn(outputs.logits, labels)\n",
    "\n",
    "        # Combine Losses\n",
    "        total_loss = (loss_suicide + loss_sentiment) / 2\n",
    "\n",
    "        # Backpropagation\n",
    "        total_loss.backward()  \n",
    "        optimizer.step()\n",
    "\n",
    "        # Logging Progress\n",
    "        if batch_idx % 100 == 0:\n",
    "            print(f\"Batch {batch_idx}/{num_batches} - Loss: {total_loss.item():.4f}\")\n",
    "\n",
    "    print(f\"Epoch {epoch+1} completed. Avg Loss: {total_loss.item():.4f}\")\n",
    "\n",
    "print(\"Training complete!\")"
   ]
  },
  {
   "cell_type": "code",
   "execution_count": 29,
   "id": "dd61499a-d338-4119-8d05-5e6522f3f179",
   "metadata": {},
   "outputs": [],
   "source": [
    "# Save model\n",
    "MODEL_PATH = \"./trained_suicide_detection_model_mt\"\n",
    "# Ensure directory exists\n",
    "os.makedirs(MODEL_PATH, exist_ok=True)"
   ]
  },
  {
   "cell_type": "code",
   "execution_count": 30,
   "id": "1307b393-97dd-4987-b204-0fa3f09246a7",
   "metadata": {},
   "outputs": [
    {
     "data": {
      "text/plain": [
       "('./trained_suicide_detection_model_mt/tokenizer_config.json',\n",
       " './trained_suicide_detection_model_mt/special_tokens_map.json',\n",
       " './trained_suicide_detection_model_mt/vocab.txt',\n",
       " './trained_suicide_detection_model_mt/added_tokens.json',\n",
       " './trained_suicide_detection_model_mt/tokenizer.json')"
      ]
     },
     "execution_count": 30,
     "metadata": {},
     "output_type": "execute_result"
    }
   ],
   "source": [
    "# Save model and tokenizer\n",
    "model.save_pretrained(MODEL_PATH)\n",
    "tokenizer.save_pretrained(MODEL_PATH)"
   ]
  },
  {
   "cell_type": "code",
   "execution_count": 100,
   "id": "98e8303e-a84a-4a93-b0f5-f71cc6ccc1a2",
   "metadata": {},
   "outputs": [
    {
     "name": "stdout",
     "output_type": "stream",
     "text": [
      "Evaluating on 5800 batches...\n",
      "\n",
      "Processed 100/5800 batches...\n",
      "Processed 200/5800 batches...\n",
      "Processed 300/5800 batches...\n",
      "Processed 400/5800 batches...\n",
      "Processed 500/5800 batches...\n",
      "Processed 600/5800 batches...\n",
      "Processed 700/5800 batches...\n",
      "Processed 800/5800 batches...\n",
      "Processed 900/5800 batches...\n",
      "Processed 1000/5800 batches...\n",
      "Processed 1100/5800 batches...\n",
      "Processed 1200/5800 batches...\n",
      "Processed 1300/5800 batches...\n",
      "Processed 1400/5800 batches...\n",
      "Processed 1500/5800 batches...\n",
      "Processed 1600/5800 batches...\n",
      "Processed 1700/5800 batches...\n",
      "Processed 1800/5800 batches...\n",
      "Processed 1900/5800 batches...\n",
      "Processed 2000/5800 batches...\n",
      "Processed 2100/5800 batches...\n",
      "Processed 2200/5800 batches...\n",
      "Processed 2300/5800 batches...\n",
      "Processed 2400/5800 batches...\n",
      "Processed 2500/5800 batches...\n",
      "Processed 2600/5800 batches...\n",
      "Processed 2700/5800 batches...\n",
      "Processed 2800/5800 batches...\n",
      "Processed 2900/5800 batches...\n",
      "Processed 3000/5800 batches...\n",
      "Processed 3100/5800 batches...\n",
      "Processed 3200/5800 batches...\n",
      "Processed 3300/5800 batches...\n",
      "Processed 3400/5800 batches...\n",
      "Processed 3500/5800 batches...\n",
      "Processed 3600/5800 batches...\n",
      "Processed 3700/5800 batches...\n",
      "Processed 3800/5800 batches...\n",
      "Processed 3900/5800 batches...\n",
      "Processed 4000/5800 batches...\n",
      "Processed 4100/5800 batches...\n",
      "Processed 4200/5800 batches...\n",
      "Processed 4300/5800 batches...\n",
      "Processed 4400/5800 batches...\n",
      "Processed 4500/5800 batches...\n",
      "Processed 4600/5800 batches...\n",
      "Processed 4700/5800 batches...\n",
      "Processed 4800/5800 batches...\n",
      "Processed 4900/5800 batches...\n",
      "Processed 5000/5800 batches...\n",
      "Processed 5100/5800 batches...\n",
      "Processed 5200/5800 batches...\n",
      "Processed 5300/5800 batches...\n",
      "Processed 5400/5800 batches...\n",
      "Processed 5500/5800 batches...\n",
      "Processed 5600/5800 batches...\n",
      "Processed 5700/5800 batches...\n",
      "Processed 5800/5800 batches...\n",
      "\n",
      "Test Accuracy: 0.9504\n",
      "Total Time for Testing: 518.85 seconds\n",
      "\n",
      "Classification Report:\n",
      "              precision    recall  f1-score   support\n",
      "\n",
      "Non-Suicidal       0.96      0.95      0.95     23268\n",
      "    Suicidal       0.95      0.96      0.95     23126\n",
      "\n",
      "    accuracy                           0.95     46394\n",
      "   macro avg       0.95      0.95      0.95     46394\n",
      "weighted avg       0.95      0.95      0.95     46394\n",
      "\n"
     ]
    }
   ],
   "source": [
    "# Test on suicide test data\n",
    "import time\n",
    "from sklearn.metrics import accuracy_score, classification_report\n",
    "\n",
    "# Start timing\n",
    "start_time = time.time()\n",
    "\n",
    "# Set model to evaluation mode\n",
    "model.eval()\n",
    "\n",
    "true_labels = []\n",
    "predictions = []\n",
    "\n",
    "# Total number of batches in test dataset\n",
    "num_batches = len(test_suicide_loader)\n",
    "\n",
    "print(f\"Evaluating on {num_batches} batches...\\n\")\n",
    "\n",
    "with torch.no_grad():\n",
    "    for batch_idx, batch in enumerate(test_suicide_loader):\n",
    "        inputs = {key: val.to(device) for key, val in batch.items() if key in [\"input_ids\", \"attention_mask\"]}\n",
    "        labels = batch[\"labels\"].to(device)\n",
    "\n",
    "        outputs = model(**inputs)\n",
    "        logits = outputs.logits\n",
    "\n",
    "        # Get predicted class (0 = Non-Suicidal, 1 = Suicidal)\n",
    "        preds = torch.argmax(logits, dim=-1).cpu().numpy()\n",
    "        labels = labels.cpu().numpy()\n",
    "\n",
    "        predictions.extend(preds)\n",
    "        true_labels.extend(labels)\n",
    "\n",
    "        # Print progress every 100 batches\n",
    "        if (batch_idx + 1) % 100 == 0 or (batch_idx + 1) == num_batches:\n",
    "            print(f\"Processed {batch_idx + 1}/{num_batches} batches...\")\n",
    "\n",
    "# Calculate accuracy\n",
    "accuracy = accuracy_score(true_labels, predictions)\n",
    "end_time = time.time()\n",
    "\n",
    "print(f\"\\nTest Accuracy: {accuracy:.4f}\")\n",
    "print(f\"Total Time for Testing: {end_time - start_time:.2f} seconds\")\n",
    "\n",
    "# Print classification report\n",
    "print(\"\\nClassification Report:\")\n",
    "print(classification_report(true_labels, predictions, target_names=[\"Non-Suicidal\", \"Suicidal\"]))"
   ]
  },
  {
   "cell_type": "code",
   "execution_count": 103,
   "id": "a0073059-172b-4b3d-8d15-da70aa2c2c6d",
   "metadata": {},
   "outputs": [],
   "source": [
    "import matplotlib.pyplot as plt\n",
    "import seaborn as sns\n",
    "from sklearn.metrics import accuracy_score, confusion_matrix, classification_report\n",
    "import numpy as np"
   ]
  },
  {
   "cell_type": "code",
   "execution_count": 104,
   "id": "46d61127-07bd-464d-8069-4fd2b14e9f26",
   "metadata": {},
   "outputs": [
    {
     "data": {
      "image/png": "[encoded data removed]",
      "text/plain": [
       "<Figure size 600x500 with 2 Axes>"
      ]
     },
     "metadata": {},
     "output_type": "display_data"
    }
   ],
   "source": [
    "# Compute Confusion Matrix\n",
    "conf_matrix = confusion_matrix(true_labels, predictions)\n",
    "\n",
    "# Convert Confusion Matrix to Percentage\n",
    "conf_matrix_percent = conf_matrix.astype('float') / conf_matrix.sum(axis=1)[:, np.newaxis] * 100\n",
    "\n",
    "# Plot Confusion Matrix with Percentages\n",
    "plt.figure(figsize=(6, 5))\n",
    "sns.heatmap(conf_matrix_percent, annot=True, fmt=\".2f\", cmap=\"Blues\", xticklabels=[\"Non-Suicidal\", \"Suicidal\"], yticklabels=[\"Non-Suicidal\", \"Suicidal\"])\n",
    "plt.xlabel(\"Predicted Label\")\n",
    "plt.ylabel(\"True Label\")\n",
    "plt.title(\"Confusion Matrix (Percentage) - Test Data\")\n",
    "plt.show()"
   ]
  },
  {
   "cell_type": "code",
   "execution_count": 32,
   "id": "494ffa3e-5786-4cbd-bd4e-2b34f8b3f23c",
   "metadata": {},
   "outputs": [
    {
     "name": "stdout",
     "output_type": "stream",
     "text": [
      "\n",
      "Prediction: Suicidal\n",
      "Confidence Scores: [[0.05502443 0.9449756 ]]\n"
     ]
    }
   ],
   "source": [
    "# test on new user data\n",
    "def predict_suicide_risk(text):\n",
    "    model.eval()  # Set to evaluation mode\n",
    "\n",
    "    # Tokenize input text\n",
    "    inputs = tokenizer(text, truncation=True, padding=\"max_length\", max_length=512, return_tensors=\"pt\")\n",
    "\n",
    "    # Move inputs to the same device as the model\n",
    "    inputs = {key: val.to(device) for key, val in inputs.items()}\n",
    "\n",
    "    # Get predictions\n",
    "    with torch.no_grad():\n",
    "        outputs = model(**inputs)\n",
    "\n",
    "    # Convert logits to probabilities\n",
    "    probs = torch.nn.functional.softmax(outputs.logits, dim=-1)\n",
    "\n",
    "    # Get prediction label\n",
    "    predicted_label = torch.argmax(probs, dim=-1).item()\n",
    "    \n",
    "    # Map label to class\n",
    "    label_map = {0: \"Non-Suicidal\", 1: \"Suicidal\"}\n",
    "    return label_map[predicted_label], probs.cpu().numpy()\n",
    "\n",
    "# User Test\n",
    "test_message = \"I feel hopeless and don't want to live.\"\n",
    "prediction, confidence = predict_suicide_risk(test_message)\n",
    "\n",
    "print(f\"\\nPrediction: {prediction}\")\n",
    "print(f\"Confidence Scores: {confidence}\")"
   ]
  },
  {
   "cell_type": "code",
   "execution_count": 33,
   "id": "6204a4fc-35de-4107-b704-e9cecdf18157",
   "metadata": {},
   "outputs": [
    {
     "name": "stdout",
     "output_type": "stream",
     "text": [
      "\n",
      "Prediction: Non-Suicidal\n",
      "Confidence Scores: [[0.8835064  0.11649355]]\n"
     ]
    }
   ],
   "source": [
    "# User Test\n",
    "test_message = \"I'm doing ok!\"\n",
    "prediction, confidence = predict_suicide_risk(test_message)\n",
    "\n",
    "print(f\"\\nPrediction: {prediction}\")\n",
    "print(f\"Confidence Scores: {confidence}\")"
   ]
  },
  {
   "cell_type": "code",
   "execution_count": 34,
   "id": "53cdc72e-6614-4ece-9ef0-7f8751b81fcf",
   "metadata": {},
   "outputs": [
    {
     "name": "stdout",
     "output_type": "stream",
     "text": [
      "\n",
      "Prediction: Suicidal\n",
      "Confidence Scores: [[0.29710996 0.70289004]]\n"
     ]
    }
   ],
   "source": [
    "# User Test\n",
    "test_message = \"thank you for your help!\"\n",
    "prediction, confidence = predict_suicide_risk(test_message)\n",
    "\n",
    "print(f\"\\nPrediction: {prediction}\")\n",
    "print(f\"Confidence Scores: {confidence}\")"
   ]
  },
  {
   "cell_type": "code",
   "execution_count": 35,
   "id": "8aede439-409b-4170-9bf0-2410e720797b",
   "metadata": {},
   "outputs": [
    {
     "name": "stdout",
     "output_type": "stream",
     "text": [
      "\n",
      "Prediction: Non-Suicidal\n",
      "Confidence Scores: [[0.70705867 0.2929413 ]]\n"
     ]
    }
   ],
   "source": [
    "# User Test\n",
    "test_message = \"hello!\"\n",
    "prediction, confidence = predict_suicide_risk(test_message)\n",
    "\n",
    "print(f\"\\nPrediction: {prediction}\")\n",
    "print(f\"Confidence Scores: {confidence}\")"
   ]
  },
  {
   "cell_type": "code",
   "execution_count": 36,
   "id": "87c04caa-f05e-4e4c-99b8-63d145b36581",
   "metadata": {},
   "outputs": [
    {
     "name": "stdout",
     "output_type": "stream",
     "text": [
      "\n",
      "Prediction: Non-Suicidal\n",
      "Confidence Scores: [[0.8006687  0.19933122]]\n"
     ]
    }
   ],
   "source": [
    "# User Test\n",
    "test_message = \"hi there\"\n",
    "prediction, confidence = predict_suicide_risk(test_message)\n",
    "\n",
    "print(f\"\\nPrediction: {prediction}\")\n",
    "print(f\"Confidence Scores: {confidence}\")"
   ]
  },
  {
   "cell_type": "code",
   "execution_count": 37,
   "id": "772e722c-851a-42d8-ab27-a1306ef9b4eb",
   "metadata": {},
   "outputs": [
    {
     "name": "stdout",
     "output_type": "stream",
     "text": [
      "\n",
      "Prediction: Non-Suicidal\n",
      "Confidence Scores: [[0.80016035 0.19983967]]\n"
     ]
    }
   ],
   "source": [
    "# User Test\n",
    "test_message = \"how are you?\"\n",
    "prediction, confidence = predict_suicide_risk(test_message)\n",
    "\n",
    "print(f\"\\nPrediction: {prediction}\")\n",
    "print(f\"Confidence Scores: {confidence}\")"
   ]
  },
  {
   "cell_type": "code",
   "execution_count": 38,
   "id": "a7b8ed61-03d8-4e3f-917f-346536ce069c",
   "metadata": {},
   "outputs": [
    {
     "name": "stdout",
     "output_type": "stream",
     "text": [
      "\n",
      "Prediction: Suicidal\n",
      "Confidence Scores: [[0.4488112 0.5511888]]\n"
     ]
    }
   ],
   "source": [
    "# User Test\n",
    "test_message = \"I feel like dying\"\n",
    "prediction, confidence = predict_suicide_risk(test_message)\n",
    "\n",
    "print(f\"\\nPrediction: {prediction}\")\n",
    "print(f\"Confidence Scores: {confidence}\")"
   ]
  },
  {
   "cell_type": "code",
   "execution_count": 39,
   "id": "42334fa3-96fe-47d4-ae98-02277f1e72dc",
   "metadata": {},
   "outputs": [
    {
     "name": "stdout",
     "output_type": "stream",
     "text": [
      "\n",
      "Prediction: Suicidal\n",
      "Confidence Scores: [[0.14516436 0.8548356 ]]\n"
     ]
    }
   ],
   "source": [
    "# User Test\n",
    "test_message = \"I want to hurt myself\"\n",
    "prediction, confidence = predict_suicide_risk(test_message)\n",
    "\n",
    "print(f\"\\nPrediction: {prediction}\")\n",
    "print(f\"Confidence Scores: {confidence}\")"
   ]
  },
  {
   "cell_type": "code",
   "execution_count": 40,
   "id": "95e57f5d-2561-49b1-ba79-246e1682e317",
   "metadata": {},
   "outputs": [
    {
     "name": "stdout",
     "output_type": "stream",
     "text": [
      "\n",
      "Prediction: Non-Suicidal\n",
      "Confidence Scores: [[0.67464495 0.32535508]]\n"
     ]
    }
   ],
   "source": [
    "# User Test\n",
    "test_message = \"Im fine. Just tired\"\n",
    "prediction, confidence = predict_suicide_risk(test_message)\n",
    "\n",
    "print(f\"\\nPrediction: {prediction}\")\n",
    "print(f\"Confidence Scores: {confidence}\")"
   ]
  },
  {
   "cell_type": "code",
   "execution_count": 41,
   "id": "23a6df1d-1f05-492d-8f21-e2b0c50b7454",
   "metadata": {},
   "outputs": [
    {
     "name": "stdout",
     "output_type": "stream",
     "text": [
      "\n",
      "Prediction: Suicidal\n",
      "Confidence Scores: [[0.2283379 0.7716621]]\n"
     ]
    }
   ],
   "source": [
    "# User Test\n",
    "test_message = \"I feel like dying right now. I hate everything\"\n",
    "prediction, confidence = predict_suicide_risk(test_message)\n",
    "\n",
    "print(f\"\\nPrediction: {prediction}\")\n",
    "print(f\"Confidence Scores: {confidence}\")"
   ]
  },
  {
   "cell_type": "code",
   "execution_count": 42,
   "id": "1245ef94-77c5-4330-9ab4-f6a81f877bb0",
   "metadata": {},
   "outputs": [
    {
     "name": "stdout",
     "output_type": "stream",
     "text": [
      "\n",
      "Prediction: Suicidal\n",
      "Confidence Scores: [[0.27888072 0.72111934]]\n"
     ]
    }
   ],
   "source": [
    "# User Test\n",
    "test_message = \"thanks!\"\n",
    "prediction, confidence = predict_suicide_risk(test_message)\n",
    "\n",
    "print(f\"\\nPrediction: {prediction}\")\n",
    "print(f\"Confidence Scores: {confidence}\")"
   ]
  },
  {
   "cell_type": "code",
   "execution_count": 91,
   "id": "3de77f08-fe1b-4081-8eeb-1f252f0e9f03",
   "metadata": {},
   "outputs": [
    {
     "name": "stdout",
     "output_type": "stream",
     "text": [
      "\n",
      "Prediction: Suicidal\n",
      "Confidence Scores: [[0.1814364  0.81856364]]\n"
     ]
    }
   ],
   "source": [
    "# User Test\n",
    "test_message = \"I want to die.\"\n",
    "prediction, confidence = predict_suicide_risk(test_message)\n",
    "\n",
    "print(f\"\\nPrediction: {prediction}\")\n",
    "print(f\"Confidence Scores: {confidence}\")"
   ]
  },
  {
   "cell_type": "code",
   "execution_count": 96,
   "id": "7f0c3e64-f4ff-470b-bb68-9287b5e11bae",
   "metadata": {},
   "outputs": [
    {
     "name": "stdout",
     "output_type": "stream",
     "text": [
      "\n",
      "Prediction: Suicidal\n",
      "Confidence Scores: [[0.05502443 0.9449756 ]]\n"
     ]
    }
   ],
   "source": [
    "# User Test\n",
    "test_message = \"I feel hopeless and don't want to live.\"\n",
    "prediction, confidence = predict_suicide_risk(test_message)\n",
    "\n",
    "print(f\"\\nPrediction: {prediction}\")\n",
    "print(f\"Confidence Scores: {confidence}\")"
   ]
  },
  {
   "cell_type": "code",
   "execution_count": 84,
   "id": "087efa2b-1323-4c01-a3cc-a73d1711cd21",
   "metadata": {},
   "outputs": [
    {
     "name": "stdout",
     "output_type": "stream",
     "text": [
      "\n",
      "Prediction: Non-Suicidal\n",
      "Confidence Scores: [[0.6047261  0.39527395]]\n"
     ]
    }
   ],
   "source": [
    "# User Test\n",
    "test_message = \"What a nice evening\"\n",
    "prediction, confidence = predict_suicide_risk(test_message)\n",
    "\n",
    "print(f\"\\nPrediction: {prediction}\")\n",
    "print(f\"Confidence Scores: {confidence}\")"
   ]
  },
  {
   "cell_type": "code",
   "execution_count": 67,
   "id": "a93835a6-6d9a-4196-8de0-e3527f42f982",
   "metadata": {},
   "outputs": [],
   "source": [
    "# Generalizability test"
   ]
  },
  {
   "cell_type": "code",
   "execution_count": 85,
   "id": "25278716-afcf-4593-9f42-38bb2b84347d",
   "metadata": {},
   "outputs": [],
   "source": [
    "# Create Out-of-Distribution dataset (messages + labels)\n",
    "ood_data = [\n",
    "    {\"text\": \"I feel good today!\", \"label\": 0},  # Non-Suicidal\n",
    "    {\"text\": \"I feel like dying right now\", \"label\": 1},  # Suicidal\n",
    "    {\"text\": \"What should I make for dinner?\", \"label\": 0},  # Non-Suicidal\n",
    "    {\"text\": \"I hate everything about my life, I wish I could disappear\", \"label\": 1},  # Suicidal\n",
    "    {\"text\": \"What a week! Life is crazy sometimes\", \"label\": 0},  # Non-Suicidal\n",
    "    {\"text\": \"No one is going to miss if me if I was gone.\", \"label\": 1},  # Suicidal\n",
    "    {\"text\": \"I'm so stressed with work, I need a break.\", \"label\": 0},  # Non-Suicidal\n",
    "    {\"text\": \"I really want to hurt myself.\", \"label\": 1},  # Suicidal\n",
    "    {\"text\": \"I wish I could fly!\", \"label\": 0},  # Non-Suicidal\n",
    "    {\"text\": \"I want to jump off a cliff.\", \"label\": 1},  # Suicidal\n",
    "    {\"text\": \"Sometimes I feel so happy, then I feel sad all of a sudden! I don't know why it happens!\", \"label\": 0},  # Non-Suicidal\n",
    "    {\"text\": \"What if I kill myself?\", \"label\": 1},  # Suicidal\n",
    "    {\"text\": \"I'm excited right now! I'm going to go kayaking soon.\", \"label\": 0},  # Non-Suicidal\n",
    "    {\"text\": \"I feel really depressed. I think I should end it\", \"label\": 1},  # Suicidal\n",
    "    {\"text\": \"I feel really depressed. Im working through it\", \"label\": 0},  # Non-Suicidal\n",
    "    {\"text\": \"I wish I wasn't here.\", \"label\": 1},  # Suicidal\n",
    "    {\"text\": \"So nervous! Everything feels like too much\", \"label\": 0},  # Non-Suicidal\n",
    "    {\"text\": \"This is the end for me. I want to stop everything.\", \"label\": 1},  # Suicidal\n",
    "    {\"text\": \"Whales are so cool right?\", \"label\": 0},  # Non-Suicidal\n",
    "    {\"text\": \"My life is over.\", \"label\": 1},  # Suicidal\n",
    "    {\"text\": \"Things are good!\", \"label\": 0},  # Non-Suicidal\n",
    "    {\"text\": \"I don't want to be alive.\", \"label\": 1},  # Suicidal\n",
    "    {\"text\": \"hello!\", \"label\": 0},  # Non-Suicidal\n",
    "    {\"text\": \"life is over for me. like things feel so empty and I feel unsure about the future\", \"label\": 1},  # Suicidal\n",
    "    {\"text\": \"I go hiking often. It's a fun activity\", \"label\": 0},  # Non-Suicidal\n",
    "    \n",
    "    \n",
    "    \n",
    "]"
   ]
  },
  {
   "cell_type": "code",
   "execution_count": 86,
   "id": "5b2cea9c-c421-4b78-8d68-800decca2e08",
   "metadata": {},
   "outputs": [
    {
     "data": {
      "application/vnd.jupyter.widget-view+json": {
       "model_id": "8a0caa2add1f44d9967e92724e30498b",
       "version_major": 2,
       "version_minor": 0
      },
      "text/plain": [
       "Map:   0%|          | 0/25 [00:00<?, ? examples/s]"
      ]
     },
     "metadata": {},
     "output_type": "display_data"
    }
   ],
   "source": [
    "def tokenize_function_ood(batch):\n",
    "    \"\"\"Tokenizes text and ensures labels are correctly formatted\"\"\"\n",
    "    tokenized = tokenizer(batch[\"text\"], truncation=True, padding=\"max_length\", max_length=512)\n",
    "    tokenized[\"labels\"] = [label for label in batch[\"label\"]]  # Ensure labels are lists\n",
    "    return tokenized\n",
    "\n",
    "# Convert OOD data into Hugging Face Dataset format\n",
    "ood_dataset = Dataset.from_list(ood_data)\n",
    "\n",
    "# Apply tokenization\n",
    "ood_dataset = ood_dataset.map(tokenize_function_ood, batched=True)"
   ]
  },
  {
   "cell_type": "code",
   "execution_count": 87,
   "id": "eb855e52-3687-4f5c-b6ae-68d0662b81f6",
   "metadata": {},
   "outputs": [],
   "source": [
    "# Convert tokenized OOD dataset into a PyTorch dataset\n",
    "test_ood_dataset = MultiTaskDataset(ood_dataset)"
   ]
  },
  {
   "cell_type": "code",
   "execution_count": 88,
   "id": "134a0280-4a72-42cb-9215-604cec00dc74",
   "metadata": {},
   "outputs": [],
   "source": [
    "# Convert to Dataloader\n",
    "test_ood_loader = DataLoader(test_ood_dataset, batch_size=4, shuffle=False)"
   ]
  },
  {
   "cell_type": "code",
   "execution_count": 89,
   "id": "0acfa854-c1ce-4a7e-b10e-80e0d6c0eab3",
   "metadata": {},
   "outputs": [
    {
     "name": "stdout",
     "output_type": "stream",
     "text": [
      "Processed 1/5800 batches...\n",
      "Processed 2/5800 batches...\n",
      "Processed 3/5800 batches...\n",
      "Processed 4/5800 batches...\n",
      "Processed 5/5800 batches...\n",
      "Processed 6/5800 batches...\n",
      "Processed 7/5800 batches...\n",
      "\n",
      "OOD Accuracy: 0.7600\n"
     ]
    }
   ],
   "source": [
    "# Set model to evaluation mode\n",
    "model.eval()\n",
    "\n",
    "true_labels = []\n",
    "predictions = []\n",
    "\n",
    "# Evaluate on OOD dataset\n",
    "with torch.no_grad():\n",
    "    for batch_idx, batch in enumerate(test_ood_loader):\n",
    "        inputs = {key: val.to(device) for key, val in batch.items() if key in [\"input_ids\", \"attention_mask\"]}\n",
    "        labels = batch[\"labels\"].to(device)\n",
    "\n",
    "        outputs = model(**inputs)\n",
    "        preds = torch.argmax(outputs.logits, dim=-1).cpu().numpy()\n",
    "        labels = labels.cpu().numpy()\n",
    "\n",
    "        predictions.extend(preds)\n",
    "        true_labels.extend(labels)\n",
    "\n",
    "        print(f\"Processed {batch_idx + 1}/{num_batches} batches...\")\n",
    "\n",
    "# Compute OOD Accuracy\n",
    "ood_accuracy = accuracy_score(true_labels, predictions)\n",
    "print(f\"\\nOOD Accuracy: {ood_accuracy:.4f}\")"
   ]
  },
  {
   "cell_type": "code",
   "execution_count": 90,
   "id": "4526f60b-3425-475a-9c92-8df3b9737018",
   "metadata": {},
   "outputs": [
    {
     "name": "stdout",
     "output_type": "stream",
     "text": [
      "\n",
      " Generalizability Score: 0.7997\n"
     ]
    }
   ],
   "source": [
    "# Compute generalizability score\n",
    "generalizability_score = ood_accuracy / accuracy\n",
    "\n",
    "print(f\"\\n Generalizability Score: {generalizability_score:.4f}\")"
   ]
  },
  {
   "cell_type": "code",
   "execution_count": 94,
   "id": "8ed9dde8-a104-4b3c-849f-3f7ae7729624",
   "metadata": {},
   "outputs": [
    {
     "name": "stdout",
     "output_type": "stream",
     "text": [
      "✅ Model saved at ./saved_model\n"
     ]
    }
   ],
   "source": [
    "# Define model save path\n",
    "MODEL_PATH = \"./saved_model\"\n",
    "\n",
    "# Save model & tokenizer\n",
    "model.save_pretrained(MODEL_PATH)\n",
    "tokenizer.save_pretrained(MODEL_PATH)\n",
    "\n",
    "print(f\"✅ Model saved at {MODEL_PATH}\")\n"
   ]
  },
  {
   "cell_type": "code",
   "execution_count": 97,
   "id": "7149ef74-0b2b-46b4-b7f0-7bed31a5d815",
   "metadata": {},
   "outputs": [],
   "source": [
    "torch.save(model.state_dict(), f\"{MODEL_PATH}/model_weights.pth\")"
   ]
  },
  {
   "cell_type": "code",
   "execution_count": 98,
   "id": "92eb2d80-82c5-4bf7-bb55-b619aa59bfba",
   "metadata": {},
   "outputs": [
    {
     "name": "stdout",
     "output_type": "stream",
     "text": [
      "\n",
      "OOD Accuracy: 0.7600\n",
      "\n",
      "Classification Report:\n",
      "              precision    recall  f1-score   support\n",
      "\n",
      "Non-Suicidal       0.89      0.62      0.73        13\n",
      "    Suicidal       0.69      0.92      0.79        12\n",
      "\n",
      "    accuracy                           0.76        25\n",
      "   macro avg       0.79      0.77      0.76        25\n",
      "weighted avg       0.79      0.76      0.76        25\n",
      "\n"
     ]
    },
    {
     "data": {
      "image/png": "[encoded data removed]",
      "text/plain": [
       "<Figure size 600x500 with 2 Axes>"
      ]
     },
     "metadata": {},
     "output_type": "display_data"
    }
   ],
   "source": [
    "import torch\n",
    "import numpy as np\n",
    "import matplotlib.pyplot as plt\n",
    "import seaborn as sns\n",
    "from sklearn.metrics import accuracy_score, confusion_matrix, classification_report\n",
    "\n",
    "# Set model to evaluation mode\n",
    "model.eval()\n",
    "\n",
    "true_labels = []\n",
    "predictions = []\n",
    "\n",
    "# Evaluate on OOD dataset\n",
    "with torch.no_grad():\n",
    "    for batch in test_ood_loader:\n",
    "        inputs = {key: val.to(device) for key, val in batch.items() if key in [\"input_ids\", \"attention_mask\"]}\n",
    "        labels = batch[\"labels\"].to(device)\n",
    "\n",
    "        outputs = model(**inputs)\n",
    "        preds = torch.argmax(outputs.logits, dim=-1).cpu().numpy()\n",
    "        labels = labels.cpu().numpy()\n",
    "\n",
    "        predictions.extend(preds)\n",
    "        true_labels.extend(labels)\n",
    "\n",
    "# Compute OOD Accuracy\n",
    "ood_accuracy = accuracy_score(true_labels, predictions)\n",
    "print(f\"\\nOOD Accuracy: {ood_accuracy:.4f}\")\n",
    "\n",
    "# Compute Confusion Matrix\n",
    "conf_matrix = confusion_matrix(true_labels, predictions)\n",
    "\n",
    "# Print Classification Report\n",
    "print(\"\\nClassification Report:\")\n",
    "print(classification_report(true_labels, predictions, target_names=[\"Non-Suicidal\", \"Suicidal\"]))\n",
    "\n",
    "# Plot Confusion Matrix\n",
    "plt.figure(figsize=(6, 5))\n",
    "sns.heatmap(conf_matrix, annot=True, fmt=\"d\", cmap=\"Blues\", xticklabels=[\"Non-Suicidal\", \"Suicidal\"], yticklabels=[\"Non-Suicidal\", \"Suicidal\"])\n",
    "plt.xlabel(\"Predicted Label\")\n",
    "plt.ylabel(\"True Label\")\n",
    "plt.title(\"Confusion Matrix - OOD Data\")\n",
    "plt.show()\n"
   ]
  },
  {
   "cell_type": "code",
   "execution_count": 99,
   "id": "57869c23-11bb-4ed3-acbe-e34f78bf8bf3",
   "metadata": {},
   "outputs": [
    {
     "data": {
      "image/png": "[encoded data removed]",
      "text/plain": [
       "<Figure size 600x500 with 2 Axes>"
      ]
     },
     "metadata": {},
     "output_type": "display_data"
    }
   ],
   "source": [
    "# Convert Confusion Matrix to Percentage\n",
    "conf_matrix_percent = conf_matrix.astype('float') / conf_matrix.sum(axis=1)[:, np.newaxis] * 100\n",
    "\n",
    "# Plot Confusion Matrix with Percentages\n",
    "plt.figure(figsize=(6, 5))\n",
    "sns.heatmap(conf_matrix_percent, annot=True, fmt=\".2f\", cmap=\"Blues\", xticklabels=[\"Non-Suicidal\", \"Suicidal\"], yticklabels=[\"Non-Suicidal\", \"Suicidal\"])\n",
    "plt.xlabel(\"Predicted Label\")\n",
    "plt.ylabel(\"True Label\")\n",
    "plt.title(\"Confusion Matrix (Percentage) - OOD Data\")\n",
    "plt.show()"
   ]
  },
  {
   "cell_type": "code",
   "execution_count": null,
   "id": "ea249527-5d41-4463-b724-6308fa7c5eaa",
   "metadata": {},
   "outputs": [],
   "source": []
  }
 ],
 "metadata": {
  "kernelspec": {
   "display_name": "Python 3 (ipykernel)",
   "language": "python",
   "name": "python3"
  },
  "language_info": {
   "codemirror_mode": {
    "name": "ipython",
    "version": 3
   },
   "file_extension": ".py",
   "mimetype": "text/x-python",
   "name": "python",
   "nbconvert_exporter": "python",
   "pygments_lexer": "ipython3",
   "version": "3.12.9"
  }
 },
 "nbformat": 4,
 "nbformat_minor": 5
}
