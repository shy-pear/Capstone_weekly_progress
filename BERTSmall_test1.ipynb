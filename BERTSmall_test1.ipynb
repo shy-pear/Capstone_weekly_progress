{
 "cells": [
  {
   "cell_type": "code",
   "execution_count": 1,
   "id": "718fba1b-abd7-47ec-a693-2e05e57595fc",
   "metadata": {},
   "outputs": [],
   "source": [
    "import torch\n",
    "from transformers import BertForSequenceClassification, BertTokenizerFast"
   ]
  },
  {
   "cell_type": "code",
   "execution_count": 2,
   "id": "4989668a-aa83-4486-938f-609d259d0a06",
   "metadata": {},
   "outputs": [],
   "source": [
    "from datasets import load_dataset\n",
    "from sklearn.model_selection import train_test_split"
   ]
  },
  {
   "cell_type": "code",
   "execution_count": 3,
   "id": "43c56195-7207-4af3-a6ce-d5c1986e4e9e",
   "metadata": {},
   "outputs": [],
   "source": [
    "import torch.nn as nn\n",
    "import torch.optim as optim\n",
    "from torch.utils.data import Dataset\n",
    "from torch.utils.data import DataLoader"
   ]
  },
  {
   "cell_type": "code",
   "execution_count": 11,
   "id": "3df7a9f2-6de2-4643-a538-50a4c5f972c4",
   "metadata": {},
   "outputs": [
    {
     "name": "stderr",
     "output_type": "stream",
     "text": [
      "[nltk_data] Downloading package wordnet to\n",
      "[nltk_data]     /Users/greentea/nltk_data...\n",
      "[nltk_data]   Package wordnet is already up-to-date!\n",
      "[nltk_data] Downloading package averaged_perceptron_tagger_eng to\n",
      "[nltk_data]     /Users/greentea/nltk_data...\n",
      "[nltk_data]   Unzipping taggers/averaged_perceptron_tagger_eng.zip.\n",
      "[nltk_data] Downloading package punkt to /Users/greentea/nltk_data...\n",
      "[nltk_data]   Package punkt is already up-to-date!\n"
     ]
    },
    {
     "data": {
      "text/plain": [
       "True"
      ]
     },
     "execution_count": 11,
     "metadata": {},
     "output_type": "execute_result"
    }
   ],
   "source": [
    "import nltk\n",
    "nltk.download('wordnet')  # Needed for synonym replacement\n",
    "nltk.download('averaged_perceptron_tagger_eng')\n",
    "nltk.download('punkt')  # Needed for sentence tokenization"
   ]
  },
  {
   "cell_type": "code",
   "execution_count": 16,
   "id": "5f634c30-5234-4f51-b756-82bd17ede195",
   "metadata": {},
   "outputs": [],
   "source": [
    "from transformers import get_scheduler"
   ]
  },
  {
   "cell_type": "code",
   "execution_count": 5,
   "id": "5bd67514-0775-455e-9a9a-b723320cf1a0",
   "metadata": {},
   "outputs": [
    {
     "name": "stderr",
     "output_type": "stream",
     "text": [
      "Some weights of BertForSequenceClassification were not initialized from the model checkpoint at prajjwal1/bert-small and are newly initialized: ['classifier.bias', 'classifier.weight']\n",
      "You should probably TRAIN this model on a down-stream task to be able to use it for predictions and inference.\n"
     ]
    },
    {
     "name": "stdout",
     "output_type": "stream",
     "text": [
      "Using device: mps\n"
     ]
    }
   ],
   "source": [
    "# Load BERT-Small model and tokenizer\n",
    "MODEL_NAME = \"prajjwal1/bert-small\"  # Upgrading from BERT-Mini\n",
    "model = BertForSequenceClassification.from_pretrained(MODEL_NAME, num_labels=2)\n",
    "tokenizer = BertTokenizerFast.from_pretrained(MODEL_NAME)\n",
    "\n",
    "# Set device (Mac M1/M2/M3)\n",
    "device = torch.device(\"mps\" if torch.backends.mps.is_available() else \"cpu\")\n",
    "model.to(device)\n",
    "\n",
    "print(f\"Using device: {device}\")"
   ]
  },
  {
   "cell_type": "code",
   "execution_count": 6,
   "id": "65a0fabc-0cd5-4a7a-b14a-05d51f26ab0e",
   "metadata": {},
   "outputs": [],
   "source": [
    "sentiment_dataset = load_dataset(\"imdb\")  # Sentiment analysis dataset\n",
    "suicide_dataset = load_dataset(\"vibhorag101/suicide_prediction_dataset_phr\")  # Suicide detection dataset"
   ]
  },
  {
   "cell_type": "code",
   "execution_count": 7,
   "id": "6bced6b8-fb7e-464a-9fab-9587c10f17d4",
   "metadata": {},
   "outputs": [],
   "source": [
    "def map_labels(example):\n",
    "    example[\"label\"] = 1 if example[\"label\"] == \"suicide\" else 0\n",
    "    return example\n",
    "\n",
    "suicide_dataset = suicide_dataset.map(map_labels)"
   ]
  },
  {
   "cell_type": "code",
   "execution_count": 9,
   "id": "d2238845-6076-460e-9b29-8b432d8da2f5",
   "metadata": {},
   "outputs": [
    {
     "data": {
      "application/vnd.jupyter.widget-view+json": {
       "model_id": "ba18362aa6b240e5b6deddb5d62d545f",
       "version_major": 2,
       "version_minor": 0
      },
      "text/plain": [
       "Map:   0%|          | 0/185574 [00:00<?, ? examples/s]"
      ]
     },
     "metadata": {},
     "output_type": "display_data"
    },
    {
     "data": {
      "application/vnd.jupyter.widget-view+json": {
       "model_id": "043eba9126234614ba2af91cb0d949d3",
       "version_major": 2,
       "version_minor": 0
      },
      "text/plain": [
       "Map:   0%|          | 0/46394 [00:00<?, ? examples/s]"
      ]
     },
     "metadata": {},
     "output_type": "display_data"
    }
   ],
   "source": [
    "def tokenize_function(batch):\n",
    "    tokenized = tokenizer(batch[\"text\"], truncation=True, padding=\"max_length\", max_length=512)\n",
    "    tokenized[\"labels\"] = batch[\"label\"]  # Keep labels\n",
    "    return tokenized\n",
    "\n",
    "# Apply tokenization\n",
    "suicide_dataset = suicide_dataset.map(tokenize_function, batched=True)\n",
    "sentiment_dataset = sentiment_dataset.map(tokenize_function, batched=True)\n"
   ]
  },
  {
   "cell_type": "code",
   "execution_count": 12,
   "id": "64130bba-3607-4b67-988b-1fefcb10a3a2",
   "metadata": {},
   "outputs": [
    {
     "data": {
      "application/vnd.jupyter.widget-view+json": {
       "model_id": "62fe965045cf47a5b6db4a2ca4a29fac",
       "version_major": 2,
       "version_minor": 0
      },
      "text/plain": [
       "Map:   0%|          | 0/185574 [00:00<?, ? examples/s]"
      ]
     },
     "metadata": {},
     "output_type": "display_data"
    },
    {
     "data": {
      "application/vnd.jupyter.widget-view+json": {
       "model_id": "ec2d824ba13a40a18429d6712f340164",
       "version_major": 2,
       "version_minor": 0
      },
      "text/plain": [
       "Map:   0%|          | 0/46394 [00:00<?, ? examples/s]"
      ]
     },
     "metadata": {},
     "output_type": "display_data"
    }
   ],
   "source": [
    "import nlpaug.augmenter.word as naw\n",
    "from nltk.corpus import wordnet  # Import WordNet after downloading\n",
    "\n",
    "# Define the augmentation function using WordNet\n",
    "aug = naw.SynonymAug(aug_src='wordnet', aug_max=2)  # Augment text\n",
    "\n",
    "def augment_text(example):\n",
    "    example[\"text\"] = aug.augment(example[\"text\"])\n",
    "    return example\n",
    "\n",
    "# Apply augmentation to the Suicide dataset\n",
    "suicide_dataset = suicide_dataset.map(augment_text)"
   ]
  },
  {
   "cell_type": "code",
   "execution_count": 13,
   "id": "9b4b4c34-6954-41cc-a9b5-21f625244faf",
   "metadata": {},
   "outputs": [],
   "source": [
    "# Remove text column to save memory\n",
    "suicide_dataset = suicide_dataset.remove_columns([\"text\"])\n",
    "sentiment_dataset = sentiment_dataset.remove_columns([\"text\"])"
   ]
  },
  {
   "cell_type": "code",
   "execution_count": 14,
   "id": "f8a55508-b266-459f-9df9-a6d8fd222b99",
   "metadata": {},
   "outputs": [],
   "source": [
    "# If dataset has more non-suicidal samples, adjust the loss function so it pays\n",
    "# attention to suicide-related messages\n",
    "from torch.nn import CrossEntropyLoss\n",
    "\n",
    "class_weights = torch.tensor([0.5, 1.5]).to(device)  # Adjust based on dataset imbalance\n",
    "loss_fn = CrossEntropyLoss(weight=class_weights)"
   ]
  },
  {
   "cell_type": "code",
   "execution_count": 15,
   "id": "82ec6e0f-f5de-4d0a-bdb4-469c8aae7ad9",
   "metadata": {},
   "outputs": [],
   "source": [
    "# Wrap in Pytorch Dataset\n",
    "from torch.utils.data import Dataset, DataLoader\n",
    "\n",
    "class CustomDataset(Dataset):\n",
    "    def __init__(self, hf_dataset):\n",
    "        self.dataset = hf_dataset\n",
    "\n",
    "    def __len__(self):\n",
    "        return len(self.dataset)\n",
    "\n",
    "    def __getitem__(self, idx):\n",
    "        item = self.dataset[idx]\n",
    "        return {\n",
    "            \"input_ids\": torch.tensor(item[\"input_ids\"], dtype=torch.long),\n",
    "            \"attention_mask\": torch.tensor(item[\"attention_mask\"], dtype=torch.long),\n",
    "            \"labels\": torch.tensor(item[\"labels\"], dtype=torch.long)\n",
    "        }\n",
    "\n",
    "# Convert datasets to PyTorch format\n",
    "train_suicide_dataset = CustomDataset(suicide_dataset[\"train\"])\n",
    "train_sentiment_dataset = CustomDataset(sentiment_dataset[\"train\"])\n",
    "\n",
    "# Create DataLoaders\n",
    "train_suicide_loader = DataLoader(train_suicide_dataset, batch_size=8, shuffle=True)\n",
    "train_sentiment_loader = DataLoader(train_sentiment_dataset, batch_size=8, shuffle=True)\n"
   ]
  },
  {
   "cell_type": "code",
   "execution_count": 19,
   "id": "cd5b0a36-ab5c-427d-83fa-a3fc3086ee77",
   "metadata": {},
   "outputs": [],
   "source": [
    "optimizer = optim.AdamW(model.parameters(), lr=3e-5)  # Lowered from 5e-5\n",
    "\n",
    "# Add learning rate warmup\n",
    "num_training_steps = len(train_suicide_loader) * 5  # 5 epochs\n",
    "lr_scheduler = get_scheduler(\n",
    "    \"linear\", optimizer=optimizer, num_warmup_steps=500, num_training_steps=num_training_steps\n",
    ")"
   ]
  },
  {
   "cell_type": "code",
   "execution_count": null,
   "id": "4473a4eb-cc6c-4985-a2f3-3483b51e8cb1",
   "metadata": {},
   "outputs": [
    {
     "name": "stdout",
     "output_type": "stream",
     "text": [
      "\n",
      "Epoch 1/5 - Training...\n",
      "Batch 100/23197 - Avg Loss: 0.5307\n"
     ]
    }
   ],
   "source": [
    "EPOCHS = 5\n",
    "\n",
    "# Training Loop\n",
    "for epoch in range(EPOCHS):\n",
    "    model.train()\n",
    "    total_loss = 0\n",
    "\n",
    "    print(f\"\\nEpoch {epoch + 1}/{EPOCHS} - Training...\")\n",
    "\n",
    "    for batch_idx, batch in enumerate(train_suicide_loader):\n",
    "        optimizer.zero_grad()\n",
    "\n",
    "        inputs = {key: val.to(device) for key, val in batch.items() if key in [\"input_ids\", \"attention_mask\"]}\n",
    "        labels = batch[\"labels\"].to(device)\n",
    "\n",
    "        outputs = model(**inputs)\n",
    "        loss = loss_fn(outputs.logits, labels)\n",
    "\n",
    "        loss.backward()\n",
    "        optimizer.step()\n",
    "        lr_scheduler.step()\n",
    "\n",
    "        total_loss += loss.item()\n",
    "\n",
    "        # Print loss every 100 batches\n",
    "        if (batch_idx + 1) % 100 == 0:\n",
    "            avg_loss = total_loss / (batch_idx + 1)\n",
    "            print(f\"Batch {batch_idx + 1}/{len(train_suicide_loader)} - Avg Loss: {avg_loss:.4f}\")\n",
    "\n",
    "    # Print average loss at the end of each epoch\n",
    "    avg_epoch_loss = total_loss / len(train_suicide_loader)\n",
    "    print(f\"Epoch {epoch+1} completed. Avg Loss: {avg_epoch_loss:.4f}\")\n",
    "\n",
    "print(\"\\nTraining complete!\")\n"
   ]
  },
  {
   "cell_type": "code",
   "execution_count": null,
   "id": "652c2ee6-4b51-4724-a277-fc03c7639f9b",
   "metadata": {},
   "outputs": [],
   "source": []
  }
 ],
 "metadata": {
  "kernelspec": {
   "display_name": "Python 3 (ipykernel)",
   "language": "python",
   "name": "python3"
  },
  "language_info": {
   "codemirror_mode": {
    "name": "ipython",
    "version": 3
   },
   "file_extension": ".py",
   "mimetype": "text/x-python",
   "name": "python",
   "nbconvert_exporter": "python",
   "pygments_lexer": "ipython3",
   "version": "3.12.9"
  }
 },
 "nbformat": 4,
 "nbformat_minor": 5
}
