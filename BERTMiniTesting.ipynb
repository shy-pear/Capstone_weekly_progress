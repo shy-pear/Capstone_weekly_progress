{
 "cells": [
  {
   "cell_type": "code",
   "execution_count": 2,
   "id": "133187b1-a326-46bc-8a35-db7ec118c4ee",
   "metadata": {},
   "outputs": [],
   "source": [
    "import torch\n",
    "from transformers import BertForSequenceClassification, BertTokenizerFast"
   ]
  },
  {
   "cell_type": "code",
   "execution_count": 3,
   "id": "17c9c068-d72f-4def-b4ad-164fea37b952",
   "metadata": {},
   "outputs": [],
   "source": [
    "from torch.utils.data import DataLoader\n",
    "from torch.utils.data import Dataset\n",
    "from datasets import load_dataset"
   ]
  },
  {
   "cell_type": "code",
   "execution_count": 27,
   "id": "935575f8-9db7-4d90-b10a-b09c00ef99e6",
   "metadata": {},
   "outputs": [],
   "source": [
    "from sklearn.metrics import accuracy_score, classification_report, confusion_matrix"
   ]
  },
  {
   "cell_type": "code",
   "execution_count": 31,
   "id": "619b1466-0ad4-4dff-b0d3-4ba51da2451a",
   "metadata": {},
   "outputs": [],
   "source": [
    "import numpy as np\n",
    "import matplotlib.pyplot as plt\n",
    "import seaborn as sns"
   ]
  },
  {
   "cell_type": "code",
   "execution_count": 47,
   "id": "3190d370-86cb-401e-9a93-d0e5820ba96c",
   "metadata": {},
   "outputs": [],
   "source": [
    "import pandas as pd"
   ]
  },
  {
   "cell_type": "code",
   "execution_count": 71,
   "id": "99e76a6e-a53a-4da4-89a0-22a1732011fa",
   "metadata": {},
   "outputs": [],
   "source": [
    "from datasets import Dataset"
   ]
  },
  {
   "cell_type": "code",
   "execution_count": 5,
   "id": "85f10383-0334-4f8c-ab46-ddb1d259c84c",
   "metadata": {},
   "outputs": [],
   "source": [
    "# Define checkpoint path\n",
    "MODEL_PATH = \"./checkpoints/model_epoch3\"  # 4th epoch was the last one"
   ]
  },
  {
   "cell_type": "code",
   "execution_count": 6,
   "id": "8bfca4be-fbb4-4a24-a62a-c0de1405c1c7",
   "metadata": {},
   "outputs": [],
   "source": [
    "# Load model and tokenizer from saved folder\n",
    "model = BertForSequenceClassification.from_pretrained(MODEL_PATH)\n",
    "tokenizer = BertTokenizerFast.from_pretrained(MODEL_PATH)"
   ]
  },
  {
   "cell_type": "code",
   "execution_count": 7,
   "id": "acc604d1-eb46-4e7d-948f-eb5f6a0f1ead",
   "metadata": {},
   "outputs": [
    {
     "name": "stdout",
     "output_type": "stream",
     "text": [
      "Full model loaded from ./checkpoints/model_epoch3 and moved to mps\n"
     ]
    }
   ],
   "source": [
    "device = torch.device(\"mps\" if torch.backends.mps.is_available() else \"cpu\")\n",
    "model.to(device)\n",
    "\n",
    "print(f\"Full model loaded from {MODEL_PATH} and moved to {device}\")"
   ]
  },
  {
   "cell_type": "code",
   "execution_count": 8,
   "id": "5d334630-dfc0-4934-89b3-86f65d5af0a8",
   "metadata": {},
   "outputs": [],
   "source": [
    "# Load dataset and prepare test dataset\n",
    "suicide_dataset = load_dataset(\"vibhorag101/suicide_prediction_dataset_phr\")  # Suicide detection dataset"
   ]
  },
  {
   "cell_type": "code",
   "execution_count": 103,
   "id": "36d283a4-d5f2-45b0-8ed1-711695b47bc9",
   "metadata": {},
   "outputs": [],
   "source": [
    "#Out-of-Distribution dataset (messages + labels)\n",
    "ood_data = [\n",
    "    {\"text\": \"I feel good today!\", \"label\": 0},  # Non-Suicidal\n",
    "    {\"text\": \"I feel like dying right now\", \"label\": 1},  # Suicidal\n",
    "    {\"text\": \"What should I make for dinner?\", \"label\": 0},  # Non-Suicidal\n",
    "    {\"text\": \"I hate everything about my life, I wish I could disappear\", \"label\": 1},  # Suicidal\n",
    "    {\"text\": \"What a week! Life is crazy sometimes\", \"label\": 0},  # Non-Suicidal\n",
    "    {\"text\": \"No one is going to miss if me if I was gone.\", \"label\": 1},  # Suicidal\n",
    "    {\"text\": \"I'm so stressed with work, I need a break.\", \"label\": 0},  # Non-Suicidal\n",
    "    {\"text\": \"I really want to hurt myself.\", \"label\": 1},  # Suicidal\n",
    "    {\"text\": \"I wish I could fly!\", \"label\": 0},  # Non-Suicidal\n",
    "    {\"text\": \"I want to jump off a cliff.\", \"label\": 1},  # Suicidal\n",
    "    {\"text\": \"Sometimes I feel so happy, then I feel sad all of a sudden! I don't know why it happens!\", \"label\": 0},  # Non-Suicidal\n",
    "    {\"text\": \"What if I kill myself?\", \"label\": 1},  # Suicidal\n",
    "    {\"text\": \"I'm excited right now! I'm going to go kayaking soon.\", \"label\": 0},  # Non-Suicidal\n",
    "    {\"text\": \"I feel really depressed. I think I should end it\", \"label\": 1},  # Suicidal\n",
    "    {\"text\": \"I feel really depressed. Im working through it\", \"label\": 0},  # Non-Suicidal\n",
    "    {\"text\": \"I wish I wasn't here.\", \"label\": 1},  # Suicidal\n",
    "    {\"text\": \"So nervous! Everything feels like too much\", \"label\": 0},  # Non-Suicidal\n",
    "    {\"text\": \"This is the end for me. I want to stop everything.\", \"label\": 1},  # Suicidal\n",
    "    {\"text\": \"Whales are so cool right?\", \"label\": 0},  # Non-Suicidal\n",
    "    {\"text\": \"My life is over.\", \"label\": 1},  # Suicidal\n",
    "    {\"text\": \"Things are good!\", \"label\": 0},  # Non-Suicidal\n",
    "    {\"text\": \"I don't want to be alive.\", \"label\": 1},  # Suicidal\n",
    "    {\"text\": \"hello!\", \"label\": 0},  # Non-Suicidal\n",
    "    {\"text\": \"life is over for me. like things feel so empty and I feel unsure about the future\", \"label\": 1},  # Suicidal\n",
    "    {\"text\": \"I go hiking often. It's a fun activity\", \"label\": 0},  # Non-Suicidal\n",
    "\n",
    "    \n",
    "]"
   ]
  },
  {
   "cell_type": "code",
   "execution_count": 9,
   "id": "172ad907-5c15-4189-82a9-46aaee9b6183",
   "metadata": {},
   "outputs": [],
   "source": [
    "def map_labels(example):\n",
    "    example[\"label\"] = 1 if example[\"label\"] == \"suicide\" else 0\n",
    "    return example\n",
    "\n",
    "suicide_dataset = suicide_dataset.map(map_labels)"
   ]
  },
  {
   "cell_type": "code",
   "execution_count": 11,
   "id": "73d7dcc6-e946-4036-bf86-2cedefac55b1",
   "metadata": {},
   "outputs": [
    {
     "data": {
      "application/vnd.jupyter.widget-view+json": {
       "model_id": "1480c6edfb114ab896025653987b3420",
       "version_major": 2,
       "version_minor": 0
      },
      "text/plain": [
       "Map:   0%|          | 0/185574 [00:00<?, ? examples/s]"
      ]
     },
     "metadata": {},
     "output_type": "display_data"
    },
    {
     "data": {
      "application/vnd.jupyter.widget-view+json": {
       "model_id": "71101f2fb50546888d780eddc8d3a435",
       "version_major": 2,
       "version_minor": 0
      },
      "text/plain": [
       "Map:   0%|          | 0/46394 [00:00<?, ? examples/s]"
      ]
     },
     "metadata": {},
     "output_type": "display_data"
    }
   ],
   "source": [
    "def tokenize_function(batch):\n",
    "    tokenized = tokenizer(batch[\"text\"], truncation=True, padding=\"max_length\", max_length=512)\n",
    "    tokenized[\"labels\"] = batch[\"label\"]  # Keep labels\n",
    "    return tokenized\n",
    "\n",
    "# Apply tokenization\n",
    "suicide_dataset = suicide_dataset.map(tokenize_function, batched=True)\n"
   ]
  },
  {
   "cell_type": "code",
   "execution_count": 104,
   "id": "4311b859-c7f8-4ca5-9655-a9f70539cb0b",
   "metadata": {},
   "outputs": [
    {
     "data": {
      "application/vnd.jupyter.widget-view+json": {
       "model_id": "4d2d75c1263e459c87606eced6efc28c",
       "version_major": 2,
       "version_minor": 0
      },
      "text/plain": [
       "Map:   0%|          | 0/25 [00:00<?, ? examples/s]"
      ]
     },
     "metadata": {},
     "output_type": "display_data"
    }
   ],
   "source": [
    "def tokenize_function_ood(batch):\n",
    "    \"\"\"Tokenizes text and ensures labels are correctly formatted\"\"\"\n",
    "    tokenized = tokenizer(batch[\"text\"], truncation=True, padding=\"max_length\", max_length=512)\n",
    "    tokenized[\"labels\"] = [label for label in batch[\"label\"]]  # Ensure labels are lists\n",
    "    return tokenized\n",
    "\n",
    "# Convert OOD data into Hugging Face Dataset format\n",
    "ood_dataset = Dataset.from_list(ood_data)\n",
    "\n",
    "# Apply tokenization\n",
    "ood_dataset = ood_dataset.map(tokenize_function_ood, batched=True)"
   ]
  },
  {
   "cell_type": "code",
   "execution_count": 12,
   "id": "b5ee9ee2-193b-477d-b9a3-c5eed1f3f421",
   "metadata": {},
   "outputs": [],
   "source": [
    "class SuicideDataset(Dataset):\n",
    "    def __init__(self, hf_dataset):\n",
    "        self.dataset = hf_dataset\n",
    "\n",
    "    def __len__(self):\n",
    "        return len(self.dataset)\n",
    "\n",
    "    def __getitem__(self, idx):\n",
    "        item = self.dataset[idx]\n",
    "        return {\n",
    "            \"input_ids\": torch.tensor(item[\"input_ids\"], dtype=torch.long),\n",
    "            \"attention_mask\": torch.tensor(item[\"attention_mask\"], dtype=torch.long),\n",
    "            \"labels\": torch.tensor(item[\"labels\"], dtype=torch.long)\n",
    "        }\n",
    "\n",
    "# test sets\n",
    "# Convert to PyTorch dataset\n",
    "test_suicide_dataset = SuicideDataset(suicide_dataset[\"test\"])\n",
    "\n",
    "# Create DataLoader\n",
    "test_suicide_loader = DataLoader(test_suicide_dataset, batch_size=8, shuffle=False)\n"
   ]
  },
  {
   "cell_type": "code",
   "execution_count": 105,
   "id": "30abb9f2-7383-4e69-903a-e46ec4a79278",
   "metadata": {},
   "outputs": [],
   "source": [
    "# Convert tokenized OOD dataset into a PyTorch dataset\n",
    "test_ood_dataset = SuicideDataset(ood_dataset)"
   ]
  },
  {
   "cell_type": "code",
   "execution_count": 106,
   "id": "f2e1ff4d-997f-42ff-a061-ce3d96495d26",
   "metadata": {},
   "outputs": [],
   "source": [
    "# Convert to Dataloader\n",
    "test_ood_loader = DataLoader(test_ood_dataset, batch_size=4, shuffle=False)"
   ]
  },
  {
   "cell_type": "code",
   "execution_count": 24,
   "id": "fcc85fc5-707d-4db2-821e-a51641dd888b",
   "metadata": {},
   "outputs": [
    {
     "name": "stdout",
     "output_type": "stream",
     "text": [
      "Evaluating on 5800 batches...\n",
      "\n",
      "Processed 100/5800 batches...\n",
      "Processed 200/5800 batches...\n",
      "Processed 300/5800 batches...\n",
      "Processed 400/5800 batches...\n",
      "Processed 500/5800 batches...\n",
      "Processed 600/5800 batches...\n",
      "Processed 700/5800 batches...\n",
      "Processed 800/5800 batches...\n",
      "Processed 900/5800 batches...\n",
      "Processed 1000/5800 batches...\n",
      "Processed 1100/5800 batches...\n",
      "Processed 1200/5800 batches...\n",
      "Processed 1300/5800 batches...\n",
      "Processed 1400/5800 batches...\n",
      "Processed 1500/5800 batches...\n",
      "Processed 1600/5800 batches...\n",
      "Processed 1700/5800 batches...\n",
      "Processed 1800/5800 batches...\n",
      "Processed 1900/5800 batches...\n",
      "Processed 2000/5800 batches...\n",
      "Processed 2100/5800 batches...\n",
      "Processed 2200/5800 batches...\n",
      "Processed 2300/5800 batches...\n",
      "Processed 2400/5800 batches...\n",
      "Processed 2500/5800 batches...\n",
      "Processed 2600/5800 batches...\n",
      "Processed 2700/5800 batches...\n",
      "Processed 2800/5800 batches...\n",
      "Processed 2900/5800 batches...\n",
      "Processed 3000/5800 batches...\n",
      "Processed 3100/5800 batches...\n",
      "Processed 3200/5800 batches...\n",
      "Processed 3300/5800 batches...\n",
      "Processed 3400/5800 batches...\n",
      "Processed 3500/5800 batches...\n",
      "Processed 3600/5800 batches...\n",
      "Processed 3700/5800 batches...\n",
      "Processed 3800/5800 batches...\n",
      "Processed 3900/5800 batches...\n",
      "Processed 4000/5800 batches...\n",
      "Processed 4100/5800 batches...\n",
      "Processed 4200/5800 batches...\n",
      "Processed 4300/5800 batches...\n",
      "Processed 4400/5800 batches...\n",
      "Processed 4500/5800 batches...\n",
      "Processed 4600/5800 batches...\n",
      "Processed 4700/5800 batches...\n",
      "Processed 4800/5800 batches...\n",
      "Processed 4900/5800 batches...\n",
      "Processed 5000/5800 batches...\n",
      "Processed 5100/5800 batches...\n",
      "Processed 5200/5800 batches...\n",
      "Processed 5300/5800 batches...\n",
      "Processed 5400/5800 batches...\n",
      "Processed 5500/5800 batches...\n",
      "Processed 5600/5800 batches...\n",
      "Processed 5700/5800 batches...\n",
      "Processed 5800/5800 batches...\n",
      "\n",
      "Test Accuracy: 0.9563\n",
      "Total Time for Testing: 456.74 seconds\n",
      "\n",
      "Classification Report:\n",
      "              precision    recall  f1-score   support\n",
      "\n",
      "Non-Suicidal       0.97      0.94      0.96     23268\n",
      "    Suicidal       0.94      0.97      0.96     23126\n",
      "\n",
      "    accuracy                           0.96     46394\n",
      "   macro avg       0.96      0.96      0.96     46394\n",
      "weighted avg       0.96      0.96      0.96     46394\n",
      "\n"
     ]
    }
   ],
   "source": [
    "import time\n",
    "from sklearn.metrics import accuracy_score, classification_report\n",
    "\n",
    "# Start timing\n",
    "start_time = time.time()\n",
    "\n",
    "# Set model to evaluation mode\n",
    "model.eval()\n",
    "\n",
    "true_labels = []\n",
    "predictions = []\n",
    "\n",
    "# Total number of batches in test dataset\n",
    "num_batches = len(test_suicide_loader)\n",
    "\n",
    "print(f\"Evaluating on {num_batches} batches...\\n\")\n",
    "\n",
    "with torch.no_grad():\n",
    "    for batch_idx, batch in enumerate(test_suicide_loader):\n",
    "        inputs = {key: val.to(device) for key, val in batch.items() if key in [\"input_ids\", \"attention_mask\"]}\n",
    "        labels = batch[\"labels\"].to(device)\n",
    "\n",
    "        outputs = model(**inputs)\n",
    "        logits = outputs.logits\n",
    "\n",
    "        # Get predicted class (0 = Non-Suicidal, 1 = Suicidal)\n",
    "        preds = torch.argmax(logits, dim=-1).cpu().numpy()\n",
    "        labels = labels.cpu().numpy()\n",
    "\n",
    "        predictions.extend(preds)\n",
    "        true_labels.extend(labels)\n",
    "\n",
    "        # Print progress every 100 batches\n",
    "        if (batch_idx + 1) % 100 == 0 or (batch_idx + 1) == num_batches:\n",
    "            print(f\"Processed {batch_idx + 1}/{num_batches} batches...\")\n",
    "\n",
    "# Calculate accuracy\n",
    "accuracy = accuracy_score(true_labels, predictions)\n",
    "end_time = time.time()\n",
    "\n",
    "print(f\"\\nTest Accuracy: {accuracy:.4f}\")\n",
    "print(f\"Total Time for Testing: {end_time - start_time:.2f} seconds\")\n",
    "\n",
    "# Print classification report\n",
    "print(\"\\nClassification Report:\")\n",
    "print(classification_report(true_labels, predictions, target_names=[\"Non-Suicidal\", \"Suicidal\"]))\n"
   ]
  },
  {
   "cell_type": "code",
   "execution_count": 13,
   "id": "29b010bc-afeb-4b2b-af00-e3f6493c5f31",
   "metadata": {},
   "outputs": [
    {
     "name": "stdout",
     "output_type": "stream",
     "text": [
      "\n",
      "Prediction: Suicidal\n",
      "Confidence Scores: [[0.11786237 0.8821376 ]]\n"
     ]
    }
   ],
   "source": [
    "# test on new user data\n",
    "def predict_suicide_risk(text):\n",
    "    model.eval()  # Set to evaluation mode\n",
    "\n",
    "    # Tokenize input text\n",
    "    inputs = tokenizer(text, truncation=True, padding=\"max_length\", max_length=512, return_tensors=\"pt\")\n",
    "\n",
    "    # Move inputs to the same device as the model\n",
    "    inputs = {key: val.to(device) for key, val in inputs.items()}\n",
    "\n",
    "    # Get predictions\n",
    "    with torch.no_grad():\n",
    "        outputs = model(**inputs)\n",
    "\n",
    "    # Convert logits to probabilities\n",
    "    probs = torch.nn.functional.softmax(outputs.logits, dim=-1)\n",
    "\n",
    "    # Get prediction label\n",
    "    predicted_label = torch.argmax(probs, dim=-1).item()\n",
    "    \n",
    "    # Map label to class\n",
    "    label_map = {0: \"Non-Suicidal\", 1: \"Suicidal\"}\n",
    "    return label_map[predicted_label], probs.cpu().numpy()\n",
    "\n",
    "# User Test\n",
    "test_message = \"I feel hopeless and don't want to live.\"\n",
    "prediction, confidence = predict_suicide_risk(test_message)\n",
    "\n",
    "print(f\"\\nPrediction: {prediction}\")\n",
    "print(f\"Confidence Scores: {confidence}\")\n"
   ]
  },
  {
   "cell_type": "code",
   "execution_count": 14,
   "id": "2bc69b2c-2634-4882-81df-e3a8a2af8947",
   "metadata": {},
   "outputs": [
    {
     "name": "stdout",
     "output_type": "stream",
     "text": [
      "\n",
      "Prediction: Suicidal\n",
      "Confidence Scores: [[0.27014002 0.72986   ]]\n"
     ]
    }
   ],
   "source": [
    "# User Test\n",
    "test_message = \"I hate myself, I want to die.\"\n",
    "prediction, confidence = predict_suicide_risk(test_message)\n",
    "\n",
    "print(f\"\\nPrediction: {prediction}\")\n",
    "print(f\"Confidence Scores: {confidence}\")"
   ]
  },
  {
   "cell_type": "code",
   "execution_count": 27,
   "id": "d2e2a448-debd-45c3-ae36-e5ac0e5be833",
   "metadata": {},
   "outputs": [
    {
     "name": "stdout",
     "output_type": "stream",
     "text": [
      "\n",
      "Prediction: Non-Suicidal\n",
      "Confidence Scores: [[0.6972591  0.30274087]]\n"
     ]
    }
   ],
   "source": [
    "# User Test\n",
    "test_message = \"I feel sad. But it's ok!\"\n",
    "prediction, confidence = predict_suicide_risk(test_message)\n",
    "\n",
    "print(f\"\\nPrediction: {prediction}\")\n",
    "print(f\"Confidence Scores: {confidence}\")"
   ]
  },
  {
   "cell_type": "code",
   "execution_count": 28,
   "id": "567c15ba-36ca-40ca-9a27-5e7aac18bf0a",
   "metadata": {},
   "outputs": [
    {
     "name": "stdout",
     "output_type": "stream",
     "text": [
      "\n",
      "Prediction: Suicidal\n",
      "Confidence Scores: [[0.27967495 0.72032505]]\n"
     ]
    }
   ],
   "source": [
    "# User Test\n",
    "test_message = \"I want to die\"\n",
    "prediction, confidence = predict_suicide_risk(test_message)\n",
    "\n",
    "print(f\"\\nPrediction: {prediction}\")\n",
    "print(f\"Confidence Scores: {confidence}\")"
   ]
  },
  {
   "cell_type": "code",
   "execution_count": 29,
   "id": "c1296683-e7c3-4164-bdca-9716c065e797",
   "metadata": {},
   "outputs": [
    {
     "name": "stdout",
     "output_type": "stream",
     "text": [
      "\n",
      "Prediction: Non-Suicidal\n",
      "Confidence Scores: [[0.83433646 0.16566359]]\n"
     ]
    }
   ],
   "source": [
    "# User Test\n",
    "test_message = \"I'm totally fine!\"\n",
    "prediction, confidence = predict_suicide_risk(test_message)\n",
    "\n",
    "print(f\"\\nPrediction: {prediction}\")\n",
    "print(f\"Confidence Scores: {confidence}\")"
   ]
  },
  {
   "cell_type": "code",
   "execution_count": 15,
   "id": "329ae431-f4a3-46c7-8850-19d6f48ae4f5",
   "metadata": {},
   "outputs": [
    {
     "name": "stdout",
     "output_type": "stream",
     "text": [
      "\n",
      "Prediction: Suicidal\n",
      "Confidence Scores: [[0.48050952 0.5194904 ]]\n"
     ]
    }
   ],
   "source": [
    "# User Test\n",
    "test_message = \"I'm doing ok!\"\n",
    "prediction, confidence = predict_suicide_risk(test_message)\n",
    "\n",
    "print(f\"\\nPrediction: {prediction}\")\n",
    "print(f\"Confidence Scores: {confidence}\")"
   ]
  },
  {
   "cell_type": "code",
   "execution_count": 31,
   "id": "ff84aa7a-1d45-4529-ba9b-8bafaea31158",
   "metadata": {},
   "outputs": [
    {
     "name": "stdout",
     "output_type": "stream",
     "text": [
      "\n",
      "Prediction: Suicidal\n",
      "Confidence Scores: [[0.04278308 0.9572169 ]]\n"
     ]
    }
   ],
   "source": [
    "# User Test\n",
    "test_message = \"thank you for your help!\"\n",
    "prediction, confidence = predict_suicide_risk(test_message)\n",
    "\n",
    "print(f\"\\nPrediction: {prediction}\")\n",
    "print(f\"Confidence Scores: {confidence}\")"
   ]
  },
  {
   "cell_type": "code",
   "execution_count": 32,
   "id": "4bcf93e9-2882-4a4d-915c-06753bfbef05",
   "metadata": {},
   "outputs": [
    {
     "name": "stdout",
     "output_type": "stream",
     "text": [
      "\n",
      "Prediction: Non-Suicidal\n",
      "Confidence Scores: [[0.5359361  0.46406385]]\n"
     ]
    }
   ],
   "source": [
    "# User Test\n",
    "test_message = \"I'm good!\"\n",
    "prediction, confidence = predict_suicide_risk(test_message)\n",
    "\n",
    "print(f\"\\nPrediction: {prediction}\")\n",
    "print(f\"Confidence Scores: {confidence}\")"
   ]
  },
  {
   "cell_type": "code",
   "execution_count": 33,
   "id": "5de1190a-8c69-4308-9187-360908a9d337",
   "metadata": {},
   "outputs": [
    {
     "name": "stdout",
     "output_type": "stream",
     "text": [
      "\n",
      "Prediction: Suicidal\n",
      "Confidence Scores: [[0.27967495 0.72032505]]\n"
     ]
    }
   ],
   "source": [
    "# User Test\n",
    "test_message = \"I want to die\"\n",
    "prediction, confidence = predict_suicide_risk(test_message)\n",
    "\n",
    "print(f\"\\nPrediction: {prediction}\")\n",
    "print(f\"Confidence Scores: {confidence}\")"
   ]
  },
  {
   "cell_type": "code",
   "execution_count": 34,
   "id": "c281bd66-4f72-445a-bbc3-049c245667e9",
   "metadata": {},
   "outputs": [
    {
     "name": "stdout",
     "output_type": "stream",
     "text": [
      "\n",
      "Prediction: Suicidal\n",
      "Confidence Scores: [[0.48259586 0.51740414]]\n"
     ]
    }
   ],
   "source": [
    "# User Test\n",
    "test_message = \"I really want to die right now. I don't feel well and I'm feeling bad\"\n",
    "prediction, confidence = predict_suicide_risk(test_message)\n",
    "\n",
    "print(f\"\\nPrediction: {prediction}\")\n",
    "print(f\"Confidence Scores: {confidence}\")"
   ]
  },
  {
   "cell_type": "code",
   "execution_count": 50,
   "id": "af4ef2e5-423c-4a13-a8e8-e5259ee3fcf3",
   "metadata": {},
   "outputs": [
    {
     "name": "stdout",
     "output_type": "stream",
     "text": [
      "\n",
      "Prediction: Non-Suicidal\n",
      "Confidence Scores: [[0.8139377  0.18606228]]\n"
     ]
    }
   ],
   "source": [
    "# User Test\n",
    "test_message = \"I'm doing well\"\n",
    "prediction, confidence = predict_suicide_risk(test_message)\n",
    "\n",
    "print(f\"\\nPrediction: {prediction}\")\n",
    "print(f\"Confidence Scores: {confidence}\")"
   ]
  },
  {
   "cell_type": "code",
   "execution_count": 16,
   "id": "82d07d18-181d-4085-bfd6-5b6654fc5a37",
   "metadata": {},
   "outputs": [
    {
     "name": "stdout",
     "output_type": "stream",
     "text": [
      "\n",
      "Prediction: Suicidal\n",
      "Confidence Scores: [[0.48150542 0.51849455]]\n"
     ]
    }
   ],
   "source": [
    "# User Test\n",
    "test_message = \"I feel like dying\"\n",
    "prediction, confidence = predict_suicide_risk(test_message)\n",
    "\n",
    "print(f\"\\nPrediction: {prediction}\")\n",
    "print(f\"Confidence Scores: {confidence}\")"
   ]
  },
  {
   "cell_type": "code",
   "execution_count": 102,
   "id": "761734c7-f6ae-4977-9692-c12b73c772ce",
   "metadata": {},
   "outputs": [
    {
     "name": "stdout",
     "output_type": "stream",
     "text": [
      "\n",
      "Prediction: Non-Suicidal\n",
      "Confidence Scores: [[0.9820754  0.01792459]]\n"
     ]
    }
   ],
   "source": [
    "# User Test\n",
    "test_message = \"I go hiking often. It's a fun activity\"\n",
    "prediction, confidence = predict_suicide_risk(test_message)\n",
    "\n",
    "print(f\"\\nPrediction: {prediction}\")\n",
    "print(f\"Confidence Scores: {confidence}\")"
   ]
  },
  {
   "cell_type": "code",
   "execution_count": 97,
   "id": "b0e6ae12-b88e-4d58-b573-4e2ff5e674ef",
   "metadata": {},
   "outputs": [
    {
     "name": "stdout",
     "output_type": "stream",
     "text": [
      "\n",
      "Prediction: Suicidal\n",
      "Confidence Scores: [[0.23789354 0.7621065 ]]\n"
     ]
    }
   ],
   "source": [
    "# User Test\n",
    "test_message = \"hello!\"\n",
    "prediction, confidence = predict_suicide_risk(test_message)\n",
    "\n",
    "print(f\"\\nPrediction: {prediction}\")\n",
    "print(f\"Confidence Scores: {confidence}\")"
   ]
  },
  {
   "cell_type": "code",
   "execution_count": 19,
   "id": "75cb31c2-6091-45ca-a552-3157fbb92cec",
   "metadata": {},
   "outputs": [
    {
     "name": "stdout",
     "output_type": "stream",
     "text": [
      "\n",
      "Prediction: Suicidal\n",
      "Confidence Scores: [[0.43719575 0.5628042 ]]\n"
     ]
    }
   ],
   "source": [
    "# User Test\n",
    "test_message = \"I want to hurt myself\"\n",
    "prediction, confidence = predict_suicide_risk(test_message)\n",
    "\n",
    "print(f\"\\nPrediction: {prediction}\")\n",
    "print(f\"Confidence Scores: {confidence}\")"
   ]
  },
  {
   "cell_type": "code",
   "execution_count": 20,
   "id": "44fe5401-1c14-44f2-9aab-8fb09e48a7c8",
   "metadata": {},
   "outputs": [
    {
     "name": "stdout",
     "output_type": "stream",
     "text": [
      "\n",
      "Prediction: Suicidal\n",
      "Confidence Scores: [[0.06701793 0.9329821 ]]\n"
     ]
    }
   ],
   "source": [
    "# User Test\n",
    "test_message = \"Im fine!\"\n",
    "prediction, confidence = predict_suicide_risk(test_message)\n",
    "\n",
    "print(f\"\\nPrediction: {prediction}\")\n",
    "print(f\"Confidence Scores: {confidence}\")"
   ]
  },
  {
   "cell_type": "code",
   "execution_count": 21,
   "id": "4415c1d0-fd38-4e50-8795-783c6b70d9b7",
   "metadata": {},
   "outputs": [
    {
     "name": "stdout",
     "output_type": "stream",
     "text": [
      "\n",
      "Prediction: Non-Suicidal\n",
      "Confidence Scores: [[0.53950316 0.4604969 ]]\n"
     ]
    }
   ],
   "source": [
    "# User Test\n",
    "test_message = \"I feel like dying right now. I hate everything\"\n",
    "prediction, confidence = predict_suicide_risk(test_message)\n",
    "\n",
    "print(f\"\\nPrediction: {prediction}\")\n",
    "print(f\"Confidence Scores: {confidence}\")"
   ]
  },
  {
   "cell_type": "code",
   "execution_count": 22,
   "id": "68c83ad9-3cac-481d-aafd-40da6800019c",
   "metadata": {},
   "outputs": [
    {
     "name": "stdout",
     "output_type": "stream",
     "text": [
      "\n",
      "Prediction: Suicidal\n",
      "Confidence Scores: [[0.09449948 0.9055005 ]]\n"
     ]
    }
   ],
   "source": [
    "# User Test\n",
    "test_message = \"what are you up to?\"\n",
    "prediction, confidence = predict_suicide_risk(test_message)\n",
    "\n",
    "print(f\"\\nPrediction: {prediction}\")\n",
    "print(f\"Confidence Scores: {confidence}\")"
   ]
  },
  {
   "cell_type": "code",
   "execution_count": 96,
   "id": "7b8384a9-c7f6-47cb-9b8a-cd7f6a183195",
   "metadata": {},
   "outputs": [
    {
     "name": "stdout",
     "output_type": "stream",
     "text": [
      "\n",
      "Prediction: Suicidal\n",
      "Confidence Scores: [[0.21297151 0.7870285 ]]\n"
     ]
    }
   ],
   "source": [
    "# User Test\n",
    "test_message = \"I dont want to be alive\"\n",
    "prediction, confidence = predict_suicide_risk(test_message)\n",
    "\n",
    "print(f\"\\nPrediction: {prediction}\")\n",
    "print(f\"Confidence Scores: {confidence}\")"
   ]
  },
  {
   "cell_type": "code",
   "execution_count": 114,
   "id": "f7ccaaf6-9223-4a42-8468-9edc428123ff",
   "metadata": {},
   "outputs": [
    {
     "name": "stdout",
     "output_type": "stream",
     "text": [
      "Evaluating on 5800 batches...\n",
      "\n",
      "Processed 100/5800 batches...\n",
      "Processed 200/5800 batches...\n",
      "Processed 300/5800 batches...\n",
      "Processed 400/5800 batches...\n",
      "Processed 500/5800 batches...\n",
      "Processed 600/5800 batches...\n",
      "Processed 700/5800 batches...\n",
      "Processed 800/5800 batches...\n",
      "Processed 900/5800 batches...\n",
      "Processed 1000/5800 batches...\n",
      "Processed 1100/5800 batches...\n",
      "Processed 1200/5800 batches...\n",
      "Processed 1300/5800 batches...\n",
      "Processed 1400/5800 batches...\n",
      "Processed 1500/5800 batches...\n",
      "Processed 1600/5800 batches...\n",
      "Processed 1700/5800 batches...\n",
      "Processed 1800/5800 batches...\n",
      "Processed 1900/5800 batches...\n",
      "Processed 2000/5800 batches...\n",
      "Processed 2100/5800 batches...\n",
      "Processed 2200/5800 batches...\n",
      "Processed 2300/5800 batches...\n",
      "Processed 2400/5800 batches...\n",
      "Processed 2500/5800 batches...\n",
      "Processed 2600/5800 batches...\n",
      "Processed 2700/5800 batches...\n",
      "Processed 2800/5800 batches...\n",
      "Processed 2900/5800 batches...\n",
      "Processed 3000/5800 batches...\n",
      "Processed 3100/5800 batches...\n",
      "Processed 3200/5800 batches...\n",
      "Processed 3300/5800 batches...\n",
      "Processed 3400/5800 batches...\n",
      "Processed 3500/5800 batches...\n",
      "Processed 3600/5800 batches...\n",
      "Processed 3700/5800 batches...\n",
      "Processed 3800/5800 batches...\n",
      "Processed 3900/5800 batches...\n",
      "Processed 4000/5800 batches...\n",
      "Processed 4100/5800 batches...\n",
      "Processed 4200/5800 batches...\n",
      "Processed 4300/5800 batches...\n",
      "Processed 4400/5800 batches...\n",
      "Processed 4500/5800 batches...\n",
      "Processed 4600/5800 batches...\n",
      "Processed 4700/5800 batches...\n",
      "Processed 4800/5800 batches...\n",
      "Processed 4900/5800 batches...\n",
      "Processed 5000/5800 batches...\n",
      "Processed 5100/5800 batches...\n",
      "Processed 5200/5800 batches...\n",
      "Processed 5300/5800 batches...\n",
      "Processed 5400/5800 batches...\n",
      "Processed 5500/5800 batches...\n",
      "Processed 5600/5800 batches...\n",
      "Processed 5700/5800 batches...\n",
      "Processed 5800/5800 batches...\n",
      "\n",
      "Test Accuracy: 0.9563\n",
      "Total Time for Testing: 484.65 seconds\n",
      "\n",
      "Classification Report:\n",
      "              precision    recall  f1-score   support\n",
      "\n",
      "Non-Suicidal       0.97      0.94      0.96     23268\n",
      "    Suicidal       0.94      0.97      0.96     23126\n",
      "\n",
      "    accuracy                           0.96     46394\n",
      "   macro avg       0.96      0.96      0.96     46394\n",
      "weighted avg       0.96      0.96      0.96     46394\n",
      "\n",
      "\n",
      "ROC-AUC Score: 0.9922\n"
     ]
    }
   ],
   "source": [
    "import time\n",
    "# Compute ROC-AUC score to determine generalizability\n",
    "from sklearn.metrics import roc_auc_score\n",
    "\n",
    "# Start timing\n",
    "start_time = time.time()\n",
    "\n",
    "# Set model to evaluation mode\n",
    "model.eval()\n",
    "\n",
    "true_labels = []\n",
    "predictions = []\n",
    "probabilities = []\n",
    "\n",
    "# Total number of batches in test dataset\n",
    "num_batches = len(test_suicide_loader)\n",
    "\n",
    "print(f\"Evaluating on {num_batches} batches...\\n\")\n",
    "\n",
    "with torch.no_grad():\n",
    "    for batch_idx, batch in enumerate(test_suicide_loader):\n",
    "        inputs = {key: val.to(device) for key, val in batch.items() if key in [\"input_ids\", \"attention_mask\"]}\n",
    "        labels = batch[\"labels\"].to(device)\n",
    "\n",
    "        outputs = model(**inputs)\n",
    "        logits = outputs.logits\n",
    "\n",
    "        # Get predicted class (0 = Non-Suicidal, 1 = Suicidal)\n",
    "        preds = torch.argmax(logits, dim=-1).cpu().numpy()\n",
    "        probs = torch.nn.functional.softmax(logits, dim=-1)[:, 1].cpu().numpy()  # Probability of class 1 (Suicidal)\n",
    "        labels = labels.cpu().numpy()\n",
    "\n",
    "        predictions.extend(preds)\n",
    "        probabilities.extend(probs)\n",
    "        true_labels.extend(labels)\n",
    "\n",
    "        # Print progress every 100 batches\n",
    "        if (batch_idx + 1) % 100 == 0 or (batch_idx + 1) == num_batches:\n",
    "            print(f\"Processed {batch_idx + 1}/{num_batches} batches...\")\n",
    "\n",
    "# Calculate accuracy\n",
    "accuracy = accuracy_score(true_labels, predictions)\n",
    "end_time = time.time()\n",
    "\n",
    "print(f\"\\nTest Accuracy: {accuracy:.4f}\")\n",
    "print(f\"Total Time for Testing: {end_time - start_time:.2f} seconds\")\n",
    "\n",
    "# Print classification report\n",
    "print(\"\\nClassification Report:\")\n",
    "print(classification_report(true_labels, predictions, target_names=[\"Non-Suicidal\", \"Suicidal\"]))\n",
    "\n",
    "# Compute ROC-AUC Score\n",
    "roc_auc = roc_auc_score(true_labels, probabilities)\n",
    "print(f\"\\nROC-AUC Score: {roc_auc:.4f}\")"
   ]
  },
  {
   "cell_type": "code",
   "execution_count": 115,
   "id": "8adea4f5-d9dd-40d1-a1f1-b995755f6eb3",
   "metadata": {},
   "outputs": [
    {
     "data": {
      "image/png": "[encoded data removed]",
      "text/plain": [
       "<Figure size 600x500 with 2 Axes>"
      ]
     },
     "metadata": {},
     "output_type": "display_data"
    }
   ],
   "source": [
    "# Compute Confusion Matrix\n",
    "conf_matrix = confusion_matrix(true_labels, predictions)\n",
    "\n",
    "# Convert Confusion Matrix to Percentage\n",
    "conf_matrix_percent = conf_matrix.astype('float') / conf_matrix.sum(axis=1)[:, np.newaxis] * 100\n",
    "\n",
    "# Plot Confusion Matrix with Percentages\n",
    "plt.figure(figsize=(6, 5))\n",
    "sns.heatmap(conf_matrix_percent, annot=True, fmt=\".2f\", cmap=\"Blues\", xticklabels=[\"Non-Suicidal\", \"Suicidal\"], yticklabels=[\"Non-Suicidal\", \"Suicidal\"])\n",
    "plt.xlabel(\"Predicted Label\")\n",
    "plt.ylabel(\"True Label\")\n",
    "plt.title(\"Confusion Matrix (Percentage) - Test Data\")\n",
    "plt.show()"
   ]
  },
  {
   "cell_type": "code",
   "execution_count": 107,
   "id": "fdc8cad2-9b1c-40b8-bb0e-45948d565443",
   "metadata": {},
   "outputs": [
    {
     "name": "stdout",
     "output_type": "stream",
     "text": [
      "Processed 1/5800 batches...\n",
      "Processed 2/5800 batches...\n",
      "Processed 3/5800 batches...\n",
      "Processed 4/5800 batches...\n",
      "Processed 5/5800 batches...\n",
      "Processed 6/5800 batches...\n",
      "Processed 7/5800 batches...\n",
      "\n",
      "OOD Accuracy: 0.6400\n"
     ]
    }
   ],
   "source": [
    "# Set model to evaluation mode\n",
    "model.eval()\n",
    "\n",
    "true_labels = []\n",
    "predictions = []\n",
    "\n",
    "# Evaluate on OOD dataset\n",
    "with torch.no_grad():\n",
    "    for batch_idx, batch in enumerate(test_ood_loader):\n",
    "        inputs = {key: val.to(device) for key, val in batch.items() if key in [\"input_ids\", \"attention_mask\"]}\n",
    "        labels = batch[\"labels\"].to(device)\n",
    "\n",
    "        outputs = model(**inputs)\n",
    "        preds = torch.argmax(outputs.logits, dim=-1).cpu().numpy()\n",
    "        labels = labels.cpu().numpy()\n",
    "\n",
    "        predictions.extend(preds)\n",
    "        true_labels.extend(labels)\n",
    "\n",
    "        print(f\"Processed {batch_idx + 1}/{num_batches} batches...\")\n",
    "\n",
    "# Compute OOD Accuracy\n",
    "ood_accuracy = accuracy_score(true_labels, predictions)\n",
    "print(f\"\\nOOD Accuracy: {ood_accuracy:.4f}\")\n"
   ]
  },
  {
   "cell_type": "code",
   "execution_count": 108,
   "id": "5c915a8b-9192-4c89-9eb4-b50e2a7d8fae",
   "metadata": {},
   "outputs": [
    {
     "name": "stdout",
     "output_type": "stream",
     "text": [
      "\n",
      " Generalizability Score: 0.6693\n"
     ]
    }
   ],
   "source": [
    "# Compute generalizability score\n",
    "generalizability_score = ood_accuracy / accuracy\n",
    "\n",
    "print(f\"\\n Generalizability Score: {generalizability_score:.4f}\")\n"
   ]
  },
  {
   "cell_type": "code",
   "execution_count": 110,
   "id": "54226e7a-4dbc-478e-b6c7-bd26dda2667d",
   "metadata": {},
   "outputs": [
    {
     "name": "stdout",
     "output_type": "stream",
     "text": [
      "\n",
      "✅ OOD Accuracy: 0.6400\n",
      "\n",
      "Classification Report:\n",
      "              precision    recall  f1-score   support\n",
      "\n",
      "Non-Suicidal       0.70      0.54      0.61        13\n",
      "    Suicidal       0.60      0.75      0.67        12\n",
      "\n",
      "    accuracy                           0.64        25\n",
      "   macro avg       0.65      0.64      0.64        25\n",
      "weighted avg       0.65      0.64      0.64        25\n",
      "\n"
     ]
    },
    {
     "data": {
      "image/png": "[encoded data removed]",
      "text/plain": [
       "<Figure size 600x500 with 2 Axes>"
      ]
     },
     "metadata": {},
     "output_type": "display_data"
    }
   ],
   "source": [
    "# Set model to evaluation mode\n",
    "model.eval()\n",
    "\n",
    "true_labels = []\n",
    "predictions = []\n",
    "\n",
    "# Evaluate on OOD dataset\n",
    "with torch.no_grad():\n",
    "    for batch in test_ood_loader:\n",
    "        inputs = {key: val.to(device) for key, val in batch.items() if key in [\"input_ids\", \"attention_mask\"]}\n",
    "        labels = batch[\"labels\"].to(device)\n",
    "\n",
    "        outputs = model(**inputs)\n",
    "        preds = torch.argmax(outputs.logits, dim=-1).cpu().numpy()\n",
    "        labels = labels.cpu().numpy()\n",
    "\n",
    "        predictions.extend(preds)\n",
    "        true_labels.extend(labels)\n",
    "\n",
    "# Compute OOD Accuracy\n",
    "ood_accuracy = accuracy_score(true_labels, predictions)\n",
    "print(f\"\\nOOD Accuracy: {ood_accuracy:.4f}\")\n",
    "\n",
    "# Compute Confusion Matrix\n",
    "conf_matrix = confusion_matrix(true_labels, predictions)\n",
    "\n",
    "# Print Classification Report\n",
    "print(\"\\nClassification Report:\")\n",
    "print(classification_report(true_labels, predictions, target_names=[\"Non-Suicidal\", \"Suicidal\"]))\n",
    "\n",
    "# Plot Confusion Matrix\n",
    "plt.figure(figsize=(6, 5))\n",
    "sns.heatmap(conf_matrix, annot=True, fmt=\"d\", cmap=\"Blues\", xticklabels=[\"Non-Suicidal\", \"Suicidal\"], yticklabels=[\"Non-Suicidal\", \"Suicidal\"])\n",
    "plt.xlabel(\"Predicted Label\")\n",
    "plt.ylabel(\"True Label\")\n",
    "plt.title(\"Confusion Matrix - OOD Data\")\n",
    "plt.show()"
   ]
  },
  {
   "cell_type": "code",
   "execution_count": 111,
   "id": "4e62208c-0b98-41f8-89b8-0afbd88bbd74",
   "metadata": {},
   "outputs": [
    {
     "data": {
      "image/png": "[encoded data removed]",
      "text/plain": [
       "<Figure size 600x500 with 2 Axes>"
      ]
     },
     "metadata": {},
     "output_type": "display_data"
    }
   ],
   "source": [
    "# Convert Confusion Matrix to Percentage\n",
    "conf_matrix_percent = conf_matrix.astype('float') / conf_matrix.sum(axis=1)[:, np.newaxis] * 100\n",
    "\n",
    "# Plot Confusion Matrix with Percentages\n",
    "plt.figure(figsize=(6, 5))\n",
    "sns.heatmap(conf_matrix_percent, annot=True, fmt=\".2f\", cmap=\"Blues\", xticklabels=[\"Non-Suicidal\", \"Suicidal\"], yticklabels=[\"Non-Suicidal\", \"Suicidal\"])\n",
    "plt.xlabel(\"Predicted Label\")\n",
    "plt.ylabel(\"True Label\")\n",
    "plt.title(\"Confusion Matrix (Percentage) - OOD Data\")\n",
    "plt.show()"
   ]
  },
  {
   "cell_type": "code",
   "execution_count": 116,
   "id": "1c10ba3e-3296-408d-9a04-59f4702819b1",
   "metadata": {},
   "outputs": [
    {
     "name": "stdout",
     "output_type": "stream",
     "text": [
      "BertForSequenceClassification(\n",
      "  (bert): BertModel(\n",
      "    (embeddings): BertEmbeddings(\n",
      "      (word_embeddings): Embedding(30522, 256, padding_idx=0)\n",
      "      (position_embeddings): Embedding(512, 256)\n",
      "      (token_type_embeddings): Embedding(2, 256)\n",
      "      (LayerNorm): LayerNorm((256,), eps=1e-12, elementwise_affine=True)\n",
      "      (dropout): Dropout(p=0.1, inplace=False)\n",
      "    )\n",
      "    (encoder): BertEncoder(\n",
      "      (layer): ModuleList(\n",
      "        (0-3): 4 x BertLayer(\n",
      "          (attention): BertAttention(\n",
      "            (self): BertSdpaSelfAttention(\n",
      "              (query): Linear(in_features=256, out_features=256, bias=True)\n",
      "              (key): Linear(in_features=256, out_features=256, bias=True)\n",
      "              (value): Linear(in_features=256, out_features=256, bias=True)\n",
      "              (dropout): Dropout(p=0.1, inplace=False)\n",
      "            )\n",
      "            (output): BertSelfOutput(\n",
      "              (dense): Linear(in_features=256, out_features=256, bias=True)\n",
      "              (LayerNorm): LayerNorm((256,), eps=1e-12, elementwise_affine=True)\n",
      "              (dropout): Dropout(p=0.1, inplace=False)\n",
      "            )\n",
      "          )\n",
      "          (intermediate): BertIntermediate(\n",
      "            (dense): Linear(in_features=256, out_features=1024, bias=True)\n",
      "            (intermediate_act_fn): GELUActivation()\n",
      "          )\n",
      "          (output): BertOutput(\n",
      "            (dense): Linear(in_features=1024, out_features=256, bias=True)\n",
      "            (LayerNorm): LayerNorm((256,), eps=1e-12, elementwise_affine=True)\n",
      "            (dropout): Dropout(p=0.1, inplace=False)\n",
      "          )\n",
      "        )\n",
      "      )\n",
      "    )\n",
      "    (pooler): BertPooler(\n",
      "      (dense): Linear(in_features=256, out_features=256, bias=True)\n",
      "      (activation): Tanh()\n",
      "    )\n",
      "  )\n",
      "  (dropout): Dropout(p=0.1, inplace=False)\n",
      "  (classifier): Linear(in_features=256, out_features=2, bias=True)\n",
      ")\n"
     ]
    }
   ],
   "source": [
    "print(model)"
   ]
  },
  {
   "cell_type": "code",
   "execution_count": null,
   "id": "37c8289e-a387-4ad1-90fa-1c1cf33b9a4a",
   "metadata": {},
   "outputs": [],
   "source": []
  }
 ],
 "metadata": {
  "kernelspec": {
   "display_name": "Python 3 (ipykernel)",
   "language": "python",
   "name": "python3"
  },
  "language_info": {
   "codemirror_mode": {
    "name": "ipython",
    "version": 3
   },
   "file_extension": ".py",
   "mimetype": "text/x-python",
   "name": "python",
   "nbconvert_exporter": "python",
   "pygments_lexer": "ipython3",
   "version": "3.12.9"
  }
 },
 "nbformat": 4,
 "nbformat_minor": 5
}
